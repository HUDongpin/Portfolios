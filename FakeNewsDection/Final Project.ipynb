{
 "cells": [
  {
   "cell_type": "markdown",
   "metadata": {},
   "source": [
    "# I. Introduction"
   ]
  },
  {
   "cell_type": "markdown",
   "metadata": {},
   "source": [
    "## 1.1 Background of the study"
   ]
  },
  {
   "cell_type": "markdown",
   "metadata": {},
   "source": [
    "As news reading through social media has grown increasingly widespread, the issue of fake news has become a major concern for both the public and the government. False information can use multimedia content to deceive readers and spread rapidly, leading to negative consequences and potential manipulation of public events. The dissemination of false news through various multimedia channels can have a detrimental impact on the credibility of legitimate news sources. For example, fake news may distort election results in favour of wicked politicians or foreign interests.\n",
    "\n",
    "\n",
    "\n",
    "Detecting fake news is a crucial task that serves the dual purpose of providing genuine information to users and preserving the integrity of the news ecosystem (Shu et al., 2019). Twenty years ago, it was impossible to manually distinguish between true and false information in a timely manner when dealing with a large amount of data (Tacchini et al., 2017). With the rise of Artificial Intelligence and Machine Learning, it is possible to address this problem through automated fake news detection (Wang et al., 2018). Although there are already some cutting-edge models like transformer for fake news detection, which heavily rely on computing power, it is too much expensive for personal users of AI models (Li et al., 2020). It is necessary to find an energy-efficient and effective classifier for personal users among commonly used classifiers and recent classifiers. "
   ]
  },
  {
   "cell_type": "markdown",
   "metadata": {},
   "source": [
    "## 1.2 Research gaps"
   ]
  },
  {
   "cell_type": "markdown",
   "metadata": {},
   "source": [
    "However, few studies have compared the performance of different machine learning approaches for fake news detection (Ahmed et al. 2021; Busioc et al., 2020; Manzoor & Singla, 2019; Zhou & Zafarani, 2020). Ahmed et al.'s (2021) study only lists and describes the common machine learning supervised classifiers for fake news detection like Naive Bayes, SVM, logistic regression, random forest, KNN, RNN, etc and does not compare each classifier in code implementation. Busioc et al.'s (2020) study reported the performance of different classifiers for fake news detection respectively, but these classifiers were implemented in different datasets and working environments, making it impossible to compare and find the best performance model for fake news detection. Similarly, Manzoor and Singla's (2019) study only describes the feature of each classifier and does not indicate which classifier is more effective and accurate in detecting fake news in practice. Wang (2017) indicated that researchers should use a labeled benchmark data set named 'LIAR' for the NLP task of fake news detection. By using the same dataset for all classifiers for fake news detection, the results can be easily compared because these classifiers are based on the same data. In addition, for reproducibility, researchers can reproduce others' work more easily if they are using the same dataset, enabling the possibility of comparing results of different classifiers on fake news detection. Thus, these studies do not indicate which classifier for fake news detection performs the best under the same dataset and working environment.\n",
    "\n",
    "\n",
    "\n",
    "Second, previous studies on this topic have predominantly relied on theoretical analysis of classifiers rather than practical implementation through code. The integration of theory and code implementation is crucial for finding the most effective solutions to fake news detection. It is necessary to implement different fake news classifiers through code and compare their performance with the same dataset and same running environment. \n",
    "\n",
    "Thus, this project aims to fill the aforementioned two research gaps. In detail, this project will make comparisons between traditional methods (e.g., Naive Bayes, support vector machine, etc) and advanced methods developed in recent years including Long short-term memory (LSTM), bidirectional LSTM, and convolutional neural network (CNN) for fake news detection in terms of accuracy, precision, recall, and f1-score.\n"
   ]
  },
  {
   "cell_type": "markdown",
   "metadata": {},
   "source": [
    "## 1.3 Significance of the study"
   ]
  },
  {
   "cell_type": "markdown",
   "metadata": {},
   "source": [
    "Cutting-edge models like transformer for fake news detection usually require high computing power, making it much expensive for personal users and small companies to implement state-of-the-art AI models (Li et al., 2020). Smaller models usually can be trained in less time and may produce comparable performance to state-of-the-art large models (Tan & Le, 2021). Thus, it is meaningful to find energy-efficient and effective classifiers which have comparable model performance to advanced models."
   ]
  },
  {
   "cell_type": "markdown",
   "metadata": {},
   "source": [
    "# 2. Literature review"
   ]
  },
  {
   "cell_type": "markdown",
   "metadata": {},
   "source": [
    "## 2.1 Fake news"
   ]
  },
  {
   "cell_type": "markdown",
   "metadata": {},
   "source": [
    "Fake news refers to intentionally written content that is designed to mislead and deceive the general public (Mishra et al., 2022). Fake news detection is the process of differentiating between news articles that are true and those that are intentionally created to deceive readers (Pérez-Rosas et al., 2017). Fake news has three main characteristics: 1) the huge volume of fake news; 2) the variety of fake news; 3) the fast velocity of fake news (Zhang & Ghorbani, 2020).\n",
    "\n",
    "\n",
    "Fake news detection usually involves implementing automated techniques such as machine learning and natural language processing to process news articles and extract features that reveal whether the article is genuine or fake (Zhou & Zafarani, 2020). In order to ensure that the public can access credible and reliable news, it has become very crucial for humans to develop robust fake news detection methods and thereby avoiding the negative consequences of fake news on society and humans. \n",
    "\n",
    "\n",
    "The prevalence of fake news is pervasive, disturbing, and ubiquitous. It is causing extensive consequences for both individuals and society. As such, it is essential to develop a reliable and efficient fake news detection system to identify and thus combat its spread (Zhang & Ghorbani, 2020). Recently, detecting fake news has gained significant attention from scholars and companies, and numerous sociological studies have highlighted the impact of fake news and its influence on people's behaviors and reactions （Abu Arqoub et al., 2022; Andersen & Søe, 2020). Detecting fake news is a crucial task that serves the dual purpose of providing genuine information to users and preserving the integrity of the news ecosystem (Shu et al., 2019).\n",
    "\n",
    "\n",
    "\n",
    "In the past, the approach of using expert-oriented fact-checking was proposed to distinguish between fake and true news. However, with the increasing amount of information on the Internet, it becomes increasingly difficult and even impossible for fake-news-checking professionals to differentiate fake and true news manually (De Beer & Matthee, 2021). This is where automated methods come in. In order to minimize the adverse effects of fake news, it is essential to create a mechanism that can identify it automatically as soon as it surfaces on social media (Mishra et al., 2022). By using machine learning techniques, automated fake news detection is possible to analyze a large amount of news and classify news into fake or true. Automated detection for fake news is preferable because automated detection for fake news is faster and more efficient than manual methods, and it can provide reliable results."
   ]
  },
  {
   "cell_type": "markdown",
   "metadata": {},
   "source": [
    "## 2.2 Traditional methods for fake news detection"
   ]
  },
  {
   "cell_type": "markdown",
   "metadata": {},
   "source": [
    "There are five commonly used machine learning methods for fake news detection, namely Naive Bayes classifier, support vector machine, logistic regression, random forest classifier, and K-Nearest Neighbors (KNN).\n",
    "\n",
    "\n",
    "Naive Bayes classifiers, used in machine learning, are a set of straightforward probabilistic classifiers that apply Bayes theorem while making naive assumptions of independence among the features. Naive Bayes classifiers do not constitute a single algorithm for training such models, but instead, a group of algorithms that share the same principle: all Naive Bayes classifiers assume that the value of a particular feature is independent of any other feature's value, given the class variable (Pattekari & Parveen, 2012). Naive Bayes classifiers have been widely employed for statistical techniques in email filtering, initially emerging in the mid-1990s as an effort to address the issue of spam filtering (Granik & Mesyura, 2017).\n",
    "\n",
    " \n",
    "Support vector machine (SVM) can be defined as systems that employ a hypothesis space of linear functions in a feature space of high dimensionality, trained using an optimization-based learning algorithm that incorporates a learning bias derived from statistical learning theory (Jakkula\n",
    ", 2006). The principles of SVM were formulated by Vapnik (1999) and have become popular due to several attractive attributes, including improved empirical performance. Singh et al.'s (2017) study indicates that SVM performs the best prediction results among these five common classifiers for fake news detection.\n",
    "\n",
    "\n",
    "Logistic regression is a typical statistical method used to determine the probability of dependent variables (usually binary) based on the values of the independent variables (Domínguez-Almendros et al., 2011). The process is similar to that of multiple linear regression, except for the fact that the dependent variable is usually binary. Logistic regression is a commonly predictive method in various fields such as medical studies, advertising, and finance to predict outcomes.\n",
    "\n",
    "\n",
    "Random forest is a popular classification algorithm consisting of various decisions trees (Sharma et al., 2020). Random forest uses trees as base learners to produce a model that is both more reliable and precise (Cutler et al., 2012).\n",
    "\n",
    "\n",
    "K-Nearest Neighbors (KNN) also known as nearest neighbor classification, is a type of classification algorithm that utilizes the concept of similarity between patterns (Kramer, 2013). The mechanism of KNN is to identify the K-nearest patterns to find a target pattern and thus determine the label. Then, KNN assigns the class label based on the K-nearest patterns in data space. To make this possible, it needs to define a similarity measure in data space to determine the closest patterns. "
   ]
  },
  {
   "cell_type": "markdown",
   "metadata": {},
   "source": [
    "## 2.3 Long short-term memory (LSTM) for fake news detection "
   ]
  },
  {
   "cell_type": "markdown",
   "metadata": {},
   "source": [
    "LSTMs are a type of recurrent neural network (RNN) that are particularly well-suited for processing sequential data, such as text (Bahad et al., 2019). LSTM usually acts as a timing layer in classification models due to its ability to store context history information and perform long-distance context-dependent learning (Bai, 2018).\n",
    "\n",
    "\n",
    "Long short-term memory is a gradient based method, which is novel and efficient in NLP tasks (Hochreiter & Schmidhuber,1997). LSTMs have a longer memory span than regular RNNs, which enables them to comprehend and exploit more intricate language dependencies (Sherstinsky, 2020). By discarding unnecessary data and noise in the input stream, LSTMs exhibit greater stability and adaptability to fluctuations and inconsistencies in language. LSTMs possess the ability to handle variable-length sequences, making them well-suited for classification tasks like sentiment analysis, text classification, and language translation (Staudemeyer & Morris, 2019). Studies have demonstrated that LSTMs perform better than conventional RNNs on various NLP applications, such as speech recognition, machine translation, and language modeling (Graves, 2012)."
   ]
  },
  {
   "cell_type": "markdown",
   "metadata": {},
   "source": [
    "## 2.4 Bidirectional LSTM layer"
   ]
  },
  {
   "cell_type": "markdown",
   "metadata": {},
   "source": [
    "A bidirectional LSTM layer is a specific type of LSTM layer that can handle input sequences in both forward and backward directions (Graves et al., 2005). This layer consists of two parallel LSTM layers: one processes the input sequence from start to end, and the other processes it from end to start. The two output sequences from the parallel layers are then merged to create the final output.  \n",
    "\n",
    "\n",
    "Bidirectional LSTM layers are beneficial in modeling long-term dependencies in natural language processing because they can take into account both past and future contexts in language (Habernal & Gurevych, 2016). Consequently, they are also very commonly employed in various natural language processing tasks, such as sentiment analysis, text classification, and language translation."
   ]
  },
  {
   "cell_type": "markdown",
   "metadata": {},
   "source": [
    "## 2.5 Convolutional Neural Network (CNN)"
   ]
  },
  {
   "cell_type": "markdown",
   "metadata": {},
   "source": [
    "CNNs consist of three types of layers: convolutional layers, pooling layers, and fully-connected layers (O'Shea & Nash, 2015). The function of neurons in Convolutional Neural Networks (CNNs) is similar to those in traditional Artificial Neural Networks (ANNs). Each neuron receives an input and performs an operation, such as a scalar product followed by a non-linear function. However, CNNs are primarily used for pattern recognition in images, which allows image-specific features to be encoded into the architecture (Albawi et al., 2017). This makes CNNs more appropriate for image-focused tasks, while also reducing the number of parameters needed to set up the model."
   ]
  },
  {
   "cell_type": "markdown",
   "metadata": {},
   "source": [
    "# 3. Objective of the project"
   ]
  },
  {
   "cell_type": "markdown",
   "metadata": {},
   "source": [
    "To make comparisons between traditional methods (i.e., Naive Bayes, support vector machine, logistic regression, random forest classifier, and K-Nearest Neighbors ) and advanced methods developed in recent years including Long short-term memory (LSTM), bidirectional LSTM, and CNN for fake news detection in terms of accuracy, precision, recall, and f1-score."
   ]
  },
  {
   "cell_type": "markdown",
   "metadata": {},
   "source": [
    "# 4. Dataset"
   ]
  },
  {
   "cell_type": "markdown",
   "metadata": {},
   "source": [
    "First, the dataset named ISOT Fake News Dataset is downloaded from the official website of University of Victoria and saved as a csv file for the required natural language processing task on the final project, namely fake news detection.\n",
    "\n",
    "The dataset comprises articles on various subjects, with the majority of them centering on political and global news topics. The genuine articles were obtained by crawling articles from Reuters.com, while the fake news articles were collected from flagged unreliable websites by Politifact and Wikipedia, respectively (University of Victoria, n.d.).\n",
    "\n",
    "The dataset has totally 44,829 rows with 23,414 true articles from reuter.com and 21,415 articles from different fake news outlet resources. Every article in the dataset includes the following details: title of the article, content of the article, article category and the date when the article was published. Although the collected data underwent cleaning and processing, the punctuation marks and errors that were present in the fake news articles were retained in the text. \n",
    "\n",
    "\n",
    "Second, the dataset named LIAR Fake News Dataset is downloaded from the official website of paperswithcode.com. The LIAR dataset is a collection of fake news detection data that is accessible to the public (Wang, 2017). Over a period of ten years, 12.8K short statements were manually labeled and gathered from POLITIFACT.COM. These statements cover a range of contexts and are accompanied by in-depth analysis reports and links to the source documents for each case.\n",
    "\n",
    "The dataset has totally 4560 rows with 2053 rows of true news and 2507 rows of fake news."
   ]
  },
  {
   "cell_type": "markdown",
   "metadata": {},
   "source": [
    "## 4.1 Dependencies"
   ]
  },
  {
   "cell_type": "code",
   "execution_count": 1,
   "metadata": {},
   "outputs": [
    {
     "name": "stdout",
     "output_type": "stream",
     "text": [
      "Requirement already satisfied: tensorflow in c:\\programdata\\anaconda3\\lib\\site-packages (2.12.0)\n",
      "Requirement already satisfied: tensorflow-intel==2.12.0 in c:\\programdata\\anaconda3\\lib\\site-packages (from tensorflow) (2.12.0)\n",
      "Requirement already satisfied: termcolor>=1.1.0 in c:\\programdata\\anaconda3\\lib\\site-packages (from tensorflow-intel==2.12.0->tensorflow) (2.3.0)\n",
      "Requirement already satisfied: typing-extensions>=3.6.6 in c:\\programdata\\anaconda3\\lib\\site-packages (from tensorflow-intel==2.12.0->tensorflow) (4.1.1)\n",
      "Requirement already satisfied: astunparse>=1.6.0 in c:\\programdata\\anaconda3\\lib\\site-packages (from tensorflow-intel==2.12.0->tensorflow) (1.6.3)\n",
      "Requirement already satisfied: setuptools in c:\\programdata\\anaconda3\\lib\\site-packages (from tensorflow-intel==2.12.0->tensorflow) (61.2.0)\n",
      "Requirement already satisfied: opt-einsum>=2.3.2 in c:\\programdata\\anaconda3\\lib\\site-packages (from tensorflow-intel==2.12.0->tensorflow) (3.3.0)\n",
      "Requirement already satisfied: numpy<1.24,>=1.22 in c:\\programdata\\anaconda3\\lib\\site-packages (from tensorflow-intel==2.12.0->tensorflow) (1.22.4)\n",
      "Requirement already satisfied: packaging in c:\\programdata\\anaconda3\\lib\\site-packages (from tensorflow-intel==2.12.0->tensorflow) (21.3)\n",
      "Requirement already satisfied: grpcio<2.0,>=1.24.3 in c:\\programdata\\anaconda3\\lib\\site-packages (from tensorflow-intel==2.12.0->tensorflow) (1.54.0)\n",
      "Requirement already satisfied: h5py>=2.9.0 in c:\\programdata\\anaconda3\\lib\\site-packages (from tensorflow-intel==2.12.0->tensorflow) (3.6.0)\n",
      "Requirement already satisfied: tensorboard<2.13,>=2.12 in c:\\programdata\\anaconda3\\lib\\site-packages (from tensorflow-intel==2.12.0->tensorflow) (2.12.3)\n",
      "Requirement already satisfied: tensorflow-io-gcs-filesystem>=0.23.1 in c:\\programdata\\anaconda3\\lib\\site-packages (from tensorflow-intel==2.12.0->tensorflow) (0.31.0)\n",
      "Requirement already satisfied: absl-py>=1.0.0 in c:\\programdata\\anaconda3\\lib\\site-packages (from tensorflow-intel==2.12.0->tensorflow) (1.4.0)\n",
      "Requirement already satisfied: tensorflow-estimator<2.13,>=2.12.0 in c:\\programdata\\anaconda3\\lib\\site-packages (from tensorflow-intel==2.12.0->tensorflow) (2.12.0)\n",
      "Requirement already satisfied: gast<=0.4.0,>=0.2.1 in c:\\programdata\\anaconda3\\lib\\site-packages (from tensorflow-intel==2.12.0->tensorflow) (0.4.0)\n",
      "Requirement already satisfied: six>=1.12.0 in c:\\programdata\\anaconda3\\lib\\site-packages (from tensorflow-intel==2.12.0->tensorflow) (1.16.0)\n",
      "Requirement already satisfied: wrapt<1.15,>=1.11.0 in c:\\programdata\\anaconda3\\lib\\site-packages (from tensorflow-intel==2.12.0->tensorflow) (1.12.1)\n",
      "Requirement already satisfied: keras<2.13,>=2.12.0 in c:\\programdata\\anaconda3\\lib\\site-packages (from tensorflow-intel==2.12.0->tensorflow) (2.12.0)\n",
      "Requirement already satisfied: jax>=0.3.15 in c:\\programdata\\anaconda3\\lib\\site-packages (from tensorflow-intel==2.12.0->tensorflow) (0.4.8)\n",
      "Requirement already satisfied: flatbuffers>=2.0 in c:\\programdata\\anaconda3\\lib\\site-packages (from tensorflow-intel==2.12.0->tensorflow) (23.3.3)\n",
      "Requirement already satisfied: protobuf!=4.21.0,!=4.21.1,!=4.21.2,!=4.21.3,!=4.21.4,!=4.21.5,<5.0.0dev,>=3.20.3 in c:\\programdata\\anaconda3\\lib\\site-packages (from tensorflow-intel==2.12.0->tensorflow) (4.22.4)\n",
      "Requirement already satisfied: libclang>=13.0.0 in c:\\programdata\\anaconda3\\lib\\site-packages (from tensorflow-intel==2.12.0->tensorflow) (16.0.0)\n",
      "Requirement already satisfied: google-pasta>=0.1.1 in c:\\programdata\\anaconda3\\lib\\site-packages (from tensorflow-intel==2.12.0->tensorflow) (0.2.0)\n",
      "Requirement already satisfied: wheel<1.0,>=0.23.0 in c:\\programdata\\anaconda3\\lib\\site-packages (from astunparse>=1.6.0->tensorflow-intel==2.12.0->tensorflow) (0.37.1)\n",
      "Requirement already satisfied: ml-dtypes>=0.0.3 in c:\\programdata\\anaconda3\\lib\\site-packages (from jax>=0.3.15->tensorflow-intel==2.12.0->tensorflow) (0.1.0)\n",
      "Requirement already satisfied: scipy>=1.7 in c:\\programdata\\anaconda3\\lib\\site-packages (from jax>=0.3.15->tensorflow-intel==2.12.0->tensorflow) (1.7.3)\n",
      "Requirement already satisfied: werkzeug>=1.0.1 in c:\\programdata\\anaconda3\\lib\\site-packages (from tensorboard<2.13,>=2.12->tensorflow-intel==2.12.0->tensorflow) (2.0.3)\n",
      "Requirement already satisfied: google-auth-oauthlib<1.1,>=0.5 in c:\\programdata\\anaconda3\\lib\\site-packages (from tensorboard<2.13,>=2.12->tensorflow-intel==2.12.0->tensorflow) (1.0.0)\n",
      "Requirement already satisfied: markdown>=2.6.8 in c:\\programdata\\anaconda3\\lib\\site-packages (from tensorboard<2.13,>=2.12->tensorflow-intel==2.12.0->tensorflow) (3.3.4)\n",
      "Requirement already satisfied: tensorboard-data-server<0.8.0,>=0.7.0 in c:\\programdata\\anaconda3\\lib\\site-packages (from tensorboard<2.13,>=2.12->tensorflow-intel==2.12.0->tensorflow) (0.7.0)\n",
      "Requirement already satisfied: google-auth<3,>=1.6.3 in c:\\programdata\\anaconda3\\lib\\site-packages (from tensorboard<2.13,>=2.12->tensorflow-intel==2.12.0->tensorflow) (2.17.3)\n",
      "Requirement already satisfied: requests<3,>=2.21.0 in c:\\programdata\\anaconda3\\lib\\site-packages (from tensorboard<2.13,>=2.12->tensorflow-intel==2.12.0->tensorflow) (2.27.1)\n",
      "Requirement already satisfied: cachetools<6.0,>=2.0.0 in c:\\programdata\\anaconda3\\lib\\site-packages (from google-auth<3,>=1.6.3->tensorboard<2.13,>=2.12->tensorflow-intel==2.12.0->tensorflow) (4.2.2)\n",
      "Requirement already satisfied: rsa<5,>=3.1.4 in c:\\programdata\\anaconda3\\lib\\site-packages (from google-auth<3,>=1.6.3->tensorboard<2.13,>=2.12->tensorflow-intel==2.12.0->tensorflow) (4.7.2)\n",
      "Requirement already satisfied: pyasn1-modules>=0.2.1 in c:\\programdata\\anaconda3\\lib\\site-packages (from google-auth<3,>=1.6.3->tensorboard<2.13,>=2.12->tensorflow-intel==2.12.0->tensorflow) (0.2.8)\n",
      "Requirement already satisfied: requests-oauthlib>=0.7.0 in c:\\programdata\\anaconda3\\lib\\site-packages (from google-auth-oauthlib<1.1,>=0.5->tensorboard<2.13,>=2.12->tensorflow-intel==2.12.0->tensorflow) (1.3.1)\n",
      "Requirement already satisfied: pyasn1<0.5.0,>=0.4.6 in c:\\programdata\\anaconda3\\lib\\site-packages (from pyasn1-modules>=0.2.1->google-auth<3,>=1.6.3->tensorboard<2.13,>=2.12->tensorflow-intel==2.12.0->tensorflow) (0.4.8)\n",
      "Requirement already satisfied: charset-normalizer~=2.0.0 in c:\\programdata\\anaconda3\\lib\\site-packages (from requests<3,>=2.21.0->tensorboard<2.13,>=2.12->tensorflow-intel==2.12.0->tensorflow) (2.0.4)\n",
      "Requirement already satisfied: certifi>=2017.4.17 in c:\\programdata\\anaconda3\\lib\\site-packages (from requests<3,>=2.21.0->tensorboard<2.13,>=2.12->tensorflow-intel==2.12.0->tensorflow) (2021.10.8)\n",
      "Requirement already satisfied: idna<4,>=2.5 in c:\\programdata\\anaconda3\\lib\\site-packages (from requests<3,>=2.21.0->tensorboard<2.13,>=2.12->tensorflow-intel==2.12.0->tensorflow) (3.3)\n",
      "Requirement already satisfied: urllib3<1.27,>=1.21.1 in c:\\programdata\\anaconda3\\lib\\site-packages (from requests<3,>=2.21.0->tensorboard<2.13,>=2.12->tensorflow-intel==2.12.0->tensorflow) (1.26.9)\n",
      "Requirement already satisfied: oauthlib>=3.0.0 in c:\\programdata\\anaconda3\\lib\\site-packages (from requests-oauthlib>=0.7.0->google-auth-oauthlib<1.1,>=0.5->tensorboard<2.13,>=2.12->tensorflow-intel==2.12.0->tensorflow) (3.2.2)\n",
      "Requirement already satisfied: pyparsing!=3.0.5,>=2.0.2 in c:\\programdata\\anaconda3\\lib\\site-packages (from packaging->tensorflow-intel==2.12.0->tensorflow) (3.0.4)\n"
     ]
    }
   ],
   "source": [
    "# install required module before importing it\n",
    "!pip install tensorflow "
   ]
  },
  {
   "cell_type": "code",
   "execution_count": 2,
   "metadata": {},
   "outputs": [],
   "source": [
    "import numpy as np\n",
    "import pandas as pd\n",
    "from IPython import display\n",
    "import tensorflow as tf\n",
    "\n",
    "from sklearn.model_selection import train_test_split\n",
    "from sklearn.feature_extraction.text import CountVectorizer, TfidfVectorizer\n",
    "from sklearn.naive_bayes import MultinomialNB\n",
    "from sklearn.svm import SVC\n",
    "from sklearn.linear_model import LogisticRegression\n",
    "from sklearn.ensemble import RandomForestClassifier\n",
    "from sklearn.neighbors import KNeighborsClassifier\n",
    "from sklearn.metrics import accuracy_score, confusion_matrix, classification_report\n",
    "\n",
    "from keras.models import Sequential\n",
    "from keras.layers import Dense, LSTM, Dropout, Embedding, Bidirectional, Conv1D, GlobalMaxPooling1D\n",
    "# from keras.preprocessing.text import Tokenizer\n",
    "# from keras.preprocessing.sequence import pad_sequences\n",
    "\n",
    "# from keras.utils import Tokenizer\n",
    "from tensorflow.keras.preprocessing.text import Tokenizer\n",
    "from tensorflow.keras.preprocessing.sequence import pad_sequences"
   ]
  },
  {
   "cell_type": "markdown",
   "metadata": {},
   "source": [
    "## 4.2 Load dataset"
   ]
  },
  {
   "cell_type": "markdown",
   "metadata": {},
   "source": [
    "First, I load the dataset containing fake news articles and their labels. We then create the feature matrix X containing the text of the articles, and the target vector y containing their corresponding labels."
   ]
  },
  {
   "cell_type": "code",
   "execution_count": 3,
   "metadata": {},
   "outputs": [
    {
     "data": {
      "text/html": [
       "<div>\n",
       "<style scoped>\n",
       "    .dataframe tbody tr th:only-of-type {\n",
       "        vertical-align: middle;\n",
       "    }\n",
       "\n",
       "    .dataframe tbody tr th {\n",
       "        vertical-align: top;\n",
       "    }\n",
       "\n",
       "    .dataframe thead th {\n",
       "        text-align: right;\n",
       "    }\n",
       "</style>\n",
       "<table border=\"1\" class=\"dataframe\">\n",
       "  <thead>\n",
       "    <tr style=\"text-align: right;\">\n",
       "      <th></th>\n",
       "      <th>title</th>\n",
       "      <th>text</th>\n",
       "      <th>subject</th>\n",
       "      <th>date</th>\n",
       "      <th>whether_real</th>\n",
       "    </tr>\n",
       "  </thead>\n",
       "  <tbody>\n",
       "    <tr>\n",
       "      <th>0</th>\n",
       "      <td>Donald Trump Sends Out Embarrassing New Year?...</td>\n",
       "      <td>Donald Trump just couldn t wish all Americans ...</td>\n",
       "      <td>News</td>\n",
       "      <td>31-Dec-17</td>\n",
       "      <td>0</td>\n",
       "    </tr>\n",
       "    <tr>\n",
       "      <th>1</th>\n",
       "      <td>Drunk Bragging Trump Staffer Started Russian ...</td>\n",
       "      <td>House Intelligence Committee Chairman Devin Nu...</td>\n",
       "      <td>News</td>\n",
       "      <td>31-Dec-17</td>\n",
       "      <td>0</td>\n",
       "    </tr>\n",
       "    <tr>\n",
       "      <th>2</th>\n",
       "      <td>Sheriff David Clarke Becomes An Internet Joke...</td>\n",
       "      <td>On Friday, it was revealed that former Milwauk...</td>\n",
       "      <td>News</td>\n",
       "      <td>30-Dec-17</td>\n",
       "      <td>0</td>\n",
       "    </tr>\n",
       "    <tr>\n",
       "      <th>3</th>\n",
       "      <td>Trump Is So Obsessed He Even Has Obama?s Name...</td>\n",
       "      <td>On Christmas day, Donald Trump announced that ...</td>\n",
       "      <td>News</td>\n",
       "      <td>29-Dec-17</td>\n",
       "      <td>0</td>\n",
       "    </tr>\n",
       "    <tr>\n",
       "      <th>4</th>\n",
       "      <td>Pope Francis Just Called Out Donald Trump Dur...</td>\n",
       "      <td>Pope Francis used his annual Christmas Day mes...</td>\n",
       "      <td>News</td>\n",
       "      <td>25-Dec-17</td>\n",
       "      <td>0</td>\n",
       "    </tr>\n",
       "  </tbody>\n",
       "</table>\n",
       "</div>"
      ],
      "text/plain": [
       "                                               title  \\\n",
       "0   Donald Trump Sends Out Embarrassing New Year?...   \n",
       "1   Drunk Bragging Trump Staffer Started Russian ...   \n",
       "2   Sheriff David Clarke Becomes An Internet Joke...   \n",
       "3   Trump Is So Obsessed He Even Has Obama?s Name...   \n",
       "4   Pope Francis Just Called Out Donald Trump Dur...   \n",
       "\n",
       "                                                text subject       date  \\\n",
       "0  Donald Trump just couldn t wish all Americans ...    News  31-Dec-17   \n",
       "1  House Intelligence Committee Chairman Devin Nu...    News  31-Dec-17   \n",
       "2  On Friday, it was revealed that former Milwauk...    News  30-Dec-17   \n",
       "3  On Christmas day, Donald Trump announced that ...    News  29-Dec-17   \n",
       "4  Pope Francis used his annual Christmas Day mes...    News  25-Dec-17   \n",
       "\n",
       "   whether_real  \n",
       "0             0  \n",
       "1             0  \n",
       "2             0  \n",
       "3             0  \n",
       "4             0  "
      ]
     },
     "execution_count": 3,
     "metadata": {},
     "output_type": "execute_result"
    }
   ],
   "source": [
    "# load csv file as dataframe\n",
    "# different datasets; University of Victoria fake news dataset and LIAR dataset\n",
    "\n",
    "df = pd.read_csv('C:/Users/Peter/Desktop/Final Project/Fake_True.csv', encoding='latin-1')\n",
    "\n",
    "# df = pd.read_csv('C:/Users/Peter/Desktop/Final Project/LIAR.csv', encoding='latin-1')\n",
    "\n",
    "\n",
    "# show the first five records of the dataframe\n",
    "df.head()"
   ]
  },
  {
   "cell_type": "code",
   "execution_count": 4,
   "metadata": {},
   "outputs": [],
   "source": [
    "# create the feature column and target column\n",
    "corpus = df['text']\n",
    "y = df['whether_real']"
   ]
  },
  {
   "cell_type": "markdown",
   "metadata": {},
   "source": [
    "## 4.3 Split dataset into training and testing sets"
   ]
  },
  {
   "cell_type": "markdown",
   "metadata": {},
   "source": [
    "Second, I split the data into training and testing sets using the train_test_split() function from scikit-learn. I use 80% of the data for training and 20% for testing."
   ]
  },
  {
   "cell_type": "code",
   "execution_count": 5,
   "metadata": {},
   "outputs": [],
   "source": [
    "# split data into training and testing sets\n",
    "X_train, X_test, y_train, y_test = train_test_split(corpus, y, test_size=0.2, random_state=42)"
   ]
  },
  {
   "cell_type": "markdown",
   "metadata": {},
   "source": [
    "## 4.4 Convert text to numerical data"
   ]
  },
  {
   "cell_type": "markdown",
   "metadata": {},
   "source": [
    "Third, I then create a TfidfVectorizer object named tfidf_vector and use it to transform the training and testing data into a matrix of token counts. We also remove stop words using the 'english' option."
   ]
  },
  {
   "cell_type": "code",
   "execution_count": 6,
   "metadata": {},
   "outputs": [],
   "source": [
    "# # create an instance of CountVectorizer\n",
    "# vectorizer = CountVectorizer(stop_words = 'english')\n",
    "\n",
    "# initialize tfidf vectorizer - Convert a collection of raw documents to a matrix of TF-IDF features.\n",
    "tfidf_vector = TfidfVectorizer(stop_words = 'english')\n",
    "\n",
    "# Fit and transform the training data; convert the dtype to unicode string by astype('U')\n",
    "X_train = tfidf_vector.fit_transform(X_train.values.astype('U'))\n",
    "\n",
    "# Transform the testing data\n",
    "X_test = tfidf_vector.transform(X_test.values.astype('U'))"
   ]
  },
  {
   "cell_type": "markdown",
   "metadata": {},
   "source": [
    "# 5. Evaluation methodology"
   ]
  },
  {
   "cell_type": "markdown",
   "metadata": {},
   "source": [
    "## 5.1 Accuracy"
   ]
  },
  {
   "cell_type": "markdown",
   "metadata": {},
   "source": [
    "Fake news detection is a type of classification task. When people think about evaluating a model's performance, the accuracy score is often the first metric that comes to mind. The following image is the formula for accuracy."
   ]
  },
  {
   "cell_type": "code",
   "execution_count": 7,
   "metadata": {},
   "outputs": [
    {
     "data": {
      "image/png": "[encoded data removed]",
      "text/plain": [
       "<IPython.core.display.Image object>"
      ]
     },
     "execution_count": 7,
     "metadata": {
      "image/png": {
       "height": 200,
       "width": 300
      }
     },
     "output_type": "execute_result"
    }
   ],
   "source": [
    "# display the image of accuracy formula\n",
    "display.Image(\"C:/Users/Peter/Desktop/Final Project/accuracy_formula.png\", width = 300, height = 200)"
   ]
  },
  {
   "cell_type": "markdown",
   "metadata": {},
   "source": [
    "Accuracy refers to the percentage of the correct prediction made by the classifier. According to the accuracy formula, accuracy is determined by dividing the number of correct predictions by the total number of predictions, as stated by Suresh (2020).\n",
    "\n",
    "\n",
    "To comprehend the formula, it is necessary to have an understanding of TP, FP, TN, and FN. The succeeding section will clarify the definitions of these four acronyms.\n",
    "\n",
    "* True Positive (TP): both the actual value and prediction are positive.\n",
    "\n",
    "* True Negative (TN): both the actual value and prediction are negative.\n",
    "\n",
    "* False Positive (FP): when the actual value is negative but the prediction is positive, which is also referred to as a Type 1 error.\n",
    "\n",
    "* False Negative (FN): when the actual value is positive but the prediction is negative, which is also referred to as a Type 2 error.\n",
    "\n",
    "It is commonly understood that relying solely on the accuracy score is insufficient to fully assess the performance of a model. Therefore, it is not recommended to solely use accuracy score as a means of evaluating model performance.Thus, adding a confusion matrix to the evaluation process can make the overall evaluation method more rational and empirical."
   ]
  },
  {
   "cell_type": "markdown",
   "metadata": {},
   "source": [
    "### 5.1.1 Confusion matrix"
   ]
  },
  {
   "cell_type": "markdown",
   "metadata": {},
   "source": [
    "Confusion matrix is a useful tool in evaluating models as it presents a table of correct and incorrect predictions in a visual format. It is commonly used in machine learning, particularly for classification problems, because it covers all possible scenarios in a classification problem. The confusion matrix is typically 2 x 2, with the columns representing the predicted class and the rows representing the actual class. By presenting four dimensions of accuracy, it provides a more comprehensive evaluation of model performance compared to a single accuracy score (Xu et al., 2020)."
   ]
  },
  {
   "cell_type": "markdown",
   "metadata": {},
   "source": [
    "## 5.2 Sklearn metrics"
   ]
  },
  {
   "cell_type": "markdown",
   "metadata": {},
   "source": [
    "The classification performance in machine learning can be evaluated using precision, recall, and f1-score, which are already predefined in the sklearn.metrics module (Buitinck et al., 2013). These measures are defined by equations, as shown in the image below (Ćwiklinski et al., 2021)."
   ]
  },
  {
   "cell_type": "code",
   "execution_count": 8,
   "metadata": {},
   "outputs": [
    {
     "data": {
      "image/png": "[encoded data removed]",
      "text/plain": [
       "<IPython.core.display.Image object>"
      ]
     },
     "execution_count": 8,
     "metadata": {
      "image/png": {
       "height": 200,
       "width": 300
      }
     },
     "output_type": "execute_result"
    }
   ],
   "source": [
    "# display the image of precision formula, recall formula, F1-score formula\n",
    "display.Image(\"C:/Users/Peter/Desktop/Final Project/precision_recall_f1score_formula.png\", width = 300, height = 200)"
   ]
  },
  {
   "cell_type": "markdown",
   "metadata": {},
   "source": [
    "* The concept of precision measures the level of accuracy in true predictions, indicating the proportion of correct predictions out of all positive predictions. It is essential to have high precision (Suresh, 2020).\n",
    "\n",
    "* Recall is a measure of correctly predicted actual observations, indicating the proportion of actual positive results among all observed positive results. A high recall score is desirable (Suresh, 2020).\n",
    "\n",
    "* F1 score, which is a combination of precision and recall, is a useful metric to evaluate model performance. It is calculated as the harmonic mean of precision and recall, and a high F1 score is desirable (Suresh, 2020).\n",
    "\n",
    "Additionally, it is worth noting the meaning of support, which refers to the number of samples utilized for model training."
   ]
  },
  {
   "cell_type": "markdown",
   "metadata": {},
   "source": [
    "# 6. Baseline performance"
   ]
  },
  {
   "cell_type": "markdown",
   "metadata": {},
   "source": [
    "Based on literature in this field, the accuracy of each classifier mentioned in this study is listed as follows:\n",
    "\n",
    "* For Naive Bayes method, researchers achieved classification accuracy of 60% (Mhatre & Masurkar, 2021).\n",
    "\n",
    "* For support vector machine, researchers achieved classification accuracy of 56% (Singh et al., 2017 ).\n",
    "\n",
    "* For logistic regression, researchers achieved classification accuracy of 56% (Kaur et al., 2020).\n",
    "\n",
    "* For random forest classifier, researchers achieved classification accuracy of 65% (Sharma et al., 2020). \n",
    "\n",
    "* For KNN method, researchers achieved classification accuracy of 54% (Mishra et al., 2022).\n",
    "\n",
    "* For LSTM, researchers achieved classification accuracy of 54% (Sansonetti et al., 2020).\n",
    "\n",
    "* For bidirectional LSTM, researchers achieved classification accuracy of 58% (Sansonetti et al., 2020).\n",
    "\n",
    "* For CNN, researchers achieved classification accuracy of 58% (Samadi et al., 2020).\n"
   ]
  },
  {
   "cell_type": "markdown",
   "metadata": {},
   "source": [
    "   Performance of five common traditional machine learning methods for fake news detection is displayed below. In order to keep the table clean, I remove percent sign for each data.\n",
    "\n",
    "| **model** | accuracy score | precision | recall |f1-score |\n",
    "|:----------:|:--------------------:|:--------:|:--------:|:--------:| \n",
    "| **Naive Bayes**  | `60`  |   `59`   | `60`     | `59`      |  \n",
    "| **Support Vector Machine**               | `56`  |  `56`     |`56`     |  `48`      |  \n",
    "| **Logistic regression**     | `56`    |`56`       |  `56`      | `51`      | \n",
    "| **Random forest**         | `65`         |  `69`     |  `83`      |  `75`     |  \n",
    "| **KNN**         | `54`         |  `54`     |  `54`      |  `54`     | \n"
   ]
  },
  {
   "cell_type": "markdown",
   "metadata": {},
   "source": [
    "# 7. Classification approach"
   ]
  },
  {
   "cell_type": "markdown",
   "metadata": {},
   "source": [
    "## 7.1 Naive Bayes classifier"
   ]
  },
  {
   "cell_type": "markdown",
   "metadata": {},
   "source": [
    "I create a multinomial Naive Bayes classifier and train it on the training data. Then I use this classifier to predict the labels of the testing data.\n",
    "\n",
    "Then I print the accuracy score and confusion matrix to evaluate the performance of the classifier."
   ]
  },
  {
   "cell_type": "code",
   "execution_count": 9,
   "metadata": {},
   "outputs": [
    {
     "name": "stdout",
     "output_type": "stream",
     "text": [
      "NB Accuracy Score: 0.9331920588891367\n"
     ]
    }
   ],
   "source": [
    "# Create the Multinomial Naive Bayes classifier and train it\n",
    "nb_model = MultinomialNB()\n",
    "nb_model.fit(X_train, y_train)\n",
    "\n",
    "# Predict the labels of the testing data\n",
    "y_nb_pred = nb_model.predict(X_test)\n",
    "\n",
    "# Print the accuracy score \n",
    "print(\"NB Accuracy Score:\", accuracy_score(y_test, y_nb_pred))"
   ]
  },
  {
   "cell_type": "markdown",
   "metadata": {},
   "source": [
    "## 7.2 Support vector machine"
   ]
  },
  {
   "cell_type": "markdown",
   "metadata": {},
   "source": [
    "I train the SVM model using the training data and make predictions on the testing set. Then I evaluate the performance of the model using accuracy score and classification report."
   ]
  },
  {
   "cell_type": "code",
   "execution_count": 10,
   "metadata": {},
   "outputs": [
    {
     "name": "stdout",
     "output_type": "stream",
     "text": [
      "SVM Accuracy Score: 0.9924157929957618\n"
     ]
    }
   ],
   "source": [
    "# Train the SVM model\n",
    "svm_model = SVC(kernel='linear')\n",
    "svm_model.fit(X_train, y_train)\n",
    "\n",
    "# Make predictions on the testing set\n",
    "y_svm_pred = svm_model.predict(X_test)\n",
    "\n",
    "# Evaluate the performance of the model\n",
    "svm_accuracy = accuracy_score(y_test, y_svm_pred)\n",
    "print('SVM Accuracy Score:', svm_accuracy)"
   ]
  },
  {
   "cell_type": "markdown",
   "metadata": {},
   "source": [
    "## 7.3 Logistic regression"
   ]
  },
  {
   "cell_type": "markdown",
   "metadata": {},
   "source": [
    "I train the logistic regression model using the training data and make predictions on the testing set. Then I evaluate the performance of the model using accuracy score and classification report."
   ]
  },
  {
   "cell_type": "code",
   "execution_count": 11,
   "metadata": {},
   "outputs": [
    {
     "name": "stdout",
     "output_type": "stream",
     "text": [
      "LR Accuracy Score: 0.9856123131831362\n"
     ]
    }
   ],
   "source": [
    "# Train the logistic regression model\n",
    "lr_model = LogisticRegression()\n",
    "lr_model.fit(X_train, y_train)\n",
    "\n",
    "# Make predictions on the testing set\n",
    "y_lr_pred = lr_model.predict(X_test)\n",
    "\n",
    "# Evaluate the performance of the model\n",
    "lr_accuracy = accuracy_score(y_test, y_lr_pred)\n",
    "print('LR Accuracy Score:', lr_accuracy)"
   ]
  },
  {
   "cell_type": "markdown",
   "metadata": {},
   "source": [
    "## 7.4 Random forest classifier"
   ]
  },
  {
   "cell_type": "markdown",
   "metadata": {},
   "source": [
    "I train the Random Forest Classifier model using the training data and make predictions on the testing set. Then I evaluate the performance of the model using accuracy score and classification report."
   ]
  },
  {
   "cell_type": "code",
   "execution_count": 12,
   "metadata": {},
   "outputs": [
    {
     "name": "stdout",
     "output_type": "stream",
     "text": [
      "RF Accuracy Score: 0.991635065804149\n"
     ]
    }
   ],
   "source": [
    "# Train the Random Forest Classifier model\n",
    "rf_model = RandomForestClassifier()\n",
    "rf_model.fit(X_train, y_train)\n",
    "\n",
    "# Make predictions on the testing set\n",
    "y_rf_pred = rf_model.predict(X_test)\n",
    "\n",
    "# Evaluate the performance of the model\n",
    "rf_accuracy = accuracy_score(y_test, y_rf_pred)\n",
    "print('RF Accuracy Score:', rf_accuracy)"
   ]
  },
  {
   "cell_type": "markdown",
   "metadata": {},
   "source": [
    "## 7.5 K-Nearest Neighbors (KNN)"
   ]
  },
  {
   "cell_type": "markdown",
   "metadata": {},
   "source": [
    "I define a K-Nearest Neighbors model using the KNeighborsClassifier() function from scikit-learn. I set the number of neighbors to 5, which is a typical value for this parameter. I then train the model on the training data using the fit() function. Then I evaluate the model on the testing data and obtain the accuracy score using the score() function.\n",
    "\n",
    "K-Nearest Neighbors is a simple but effective algorithm for classification tasks in NLP. It can work well on small to medium-sized datasets and can be used for both binary and multiclass classification problems."
   ]
  },
  {
   "cell_type": "code",
   "execution_count": 13,
   "metadata": {},
   "outputs": [
    {
     "name": "stdout",
     "output_type": "stream",
     "text": [
      "KNN Accuracy Score: 0.6434307383448583\n"
     ]
    }
   ],
   "source": [
    "# Define the KNN model\n",
    "knn_model = KNeighborsClassifier(n_neighbors=5)\n",
    "\n",
    "# Train the model on the training data\n",
    "knn_model.fit(X_train, y_train)\n",
    "\n",
    "# Make predictions on the testing set\n",
    "y_knn_pred = knn_model.predict(X_test)\n",
    "\n",
    "# Evaluate the model on the testing data\n",
    "knn_accuracy = accuracy_score(y_test,y_knn_pred)\n",
    "print('KNN Accuracy Score:', knn_accuracy)"
   ]
  },
  {
   "cell_type": "markdown",
   "metadata": {},
   "source": [
    "## 7.6 Long short-term memory (LSTM)"
   ]
  },
  {
   "cell_type": "markdown",
   "metadata": {},
   "source": [
    "I first create a Tokenizer object and fit it to the training data to convert the text into sequences. \n",
    "\n",
    "\n",
    "Then I define a deep learning model using Keras with an embedding layer, an LSTM layer, and a dense output layer with sigmoid activation. I then compile the model with binary crossentropy loss and Adam optimizer.\n",
    "\n",
    "I train the model on the training data using the fit() function and validate it on the testing data. I also evaluate the model on the testing data to obtain the accuracy score.\n",
    "\n",
    "This model utilizes the state-of-the-art methods in NLP, including word embedding and LSTM layer for sequence modeling. It can provide higher accuracy compared to traditional machine learning models."
   ]
  },
  {
   "cell_type": "code",
   "execution_count": 14,
   "metadata": {},
   "outputs": [
    {
     "name": "stdout",
     "output_type": "stream",
     "text": [
      "Epoch 1/5\n",
      "1121/1121 [==============================] - 1227s 1s/step - loss: 0.1090 - accuracy: 0.9628 - val_loss: 0.0620 - val_accuracy: 0.9826\n",
      "Epoch 2/5\n",
      "1121/1121 [==============================] - 13450s 12s/step - loss: 0.0630 - accuracy: 0.9801 - val_loss: 0.0461 - val_accuracy: 0.9849\n",
      "Epoch 3/5\n",
      "1121/1121 [==============================] - 1260s 1s/step - loss: 0.0351 - accuracy: 0.9886 - val_loss: 0.0807 - val_accuracy: 0.9757\n",
      "Epoch 4/5\n",
      "1121/1121 [==============================] - 45673s 41s/step - loss: 0.0563 - accuracy: 0.9819 - val_loss: 0.0607 - val_accuracy: 0.9828\n",
      "Epoch 5/5\n",
      "1121/1121 [==============================] - 1294s 1s/step - loss: 0.0356 - accuracy: 0.9886 - val_loss: 0.0618 - val_accuracy: 0.9845\n",
      "LSTM Accuracy Score: 0.9844970107078552\n",
      "281/281 [==============================] - 46s 161ms/step\n",
      "y_lstm_pred: [0 0 0 ... 0 0 0]\n"
     ]
    }
   ],
   "source": [
    "# # Create the tokenizer and fit it to the training data\n",
    "# tokenizer = Tokenizer(num_words=5000)\n",
    "# tokenizer.fit_on_texts(X_train)\n",
    "\n",
    "# # Convert the text to sequences and pad them to ensure equal length\n",
    "# X_train_seq = pad_sequences(tokenizer.texts_to_sequences(X_train), maxlen=200)\n",
    "# X_test_seq = pad_sequences(tokenizer.texts_to_sequences(X_test), maxlen=200)\n",
    "\n",
    "\n",
    "# Create the tokenizer object and fit it to the text data\n",
    "tokenizer = Tokenizer(num_words=10000)\n",
    "tokenizer.fit_on_texts(df['text'])\n",
    "\n",
    "# Transform the text data into sequences of integers\n",
    "sequences = tokenizer.texts_to_sequences(df['text'])\n",
    "\n",
    "# Pad the sequences to have the same length\n",
    "ltsm_X = pad_sequences(sequences, maxlen=500)\n",
    "\n",
    "# Create the target variable\n",
    "ltsm_y = df['whether_real']\n",
    "\n",
    "# Split the data into training and testing sets\n",
    "ltsm_X_train, ltsm_X_test, ltsm_y_train, ltsm_y_test = train_test_split(ltsm_X, ltsm_y, test_size=0.2, random_state=42)\n",
    "\n",
    "\n",
    "# Build LSTM model\n",
    "lstm_model = Sequential()\n",
    "lstm_model.add(Embedding(10000, 128, input_length=500))\n",
    "lstm_model.add(LSTM(64, dropout=0.2, recurrent_dropout=0.2))\n",
    "lstm_model.add(Dense(1, activation='sigmoid'))\n",
    "\n",
    "lstm_model.compile(loss='binary_crossentropy', optimizer='adam', metrics=['accuracy'])\n",
    "\n",
    "# Train the model\n",
    "lstm_model.fit(ltsm_X_train, ltsm_y_train, validation_data=(ltsm_X_test, ltsm_y_test), epochs=5, batch_size=32)\n",
    "\n",
    "# # Make predictions on the testing set\n",
    "loss, lstm_accuracy = lstm_model.evaluate(ltsm_X_test, ltsm_y_test, verbose=False)\n",
    "print('LSTM Accuracy Score:', lstm_accuracy)\n",
    "\n",
    "# Make predictions on the testing set\n",
    "y_lstm_pred = np.argmax(lstm_model.predict(ltsm_X_test),axis=1)\n",
    "print('y_lstm_pred:', y_lstm_pred)"
   ]
  },
  {
   "cell_type": "markdown",
   "metadata": {},
   "source": [
    "## 7.7 Bidirectional LSTM layer"
   ]
  },
  {
   "cell_type": "markdown",
   "metadata": {},
   "source": [
    "I create a Tokenizer object and fit it to the training data to convert the text into sequences. I also pad the sequences to ensure equal length using the pad_sequences() function.\n",
    "\n",
    "Next, I define a deep learning model using Keras with an embedding layer, a bidirectional LSTM layer, and a dense output layer with sigmoid activation. I then compile the model with binary crossentropy loss and Adam optimizer.\n",
    "\n",
    "I train the model on the training data using the fit() function and validate it on the testing data. I also evaluate the model on the testing data to obtain the accuracy score.\n",
    "\n",
    "This model utilizes the state-of-the-art methods in NLP, including bidirectional LSTM for capturing long-term dependencies in text data. It can provide higher accuracy compared to traditional machine learning models."
   ]
  },
  {
   "cell_type": "code",
   "execution_count": 15,
   "metadata": {},
   "outputs": [
    {
     "name": "stdout",
     "output_type": "stream",
     "text": [
      "Epoch 1/5\n",
      "1121/1121 [==============================] - 683s 604ms/step - loss: 0.1568 - accuracy: 0.9442 - val_loss: 0.0927 - val_accuracy: 0.9697\n",
      "Epoch 2/5\n",
      "1121/1121 [==============================] - 565s 504ms/step - loss: 0.1029 - accuracy: 0.9657 - val_loss: 0.1117 - val_accuracy: 0.9619\n",
      "Epoch 3/5\n",
      "1121/1121 [==============================] - 612s 546ms/step - loss: 0.0427 - accuracy: 0.9870 - val_loss: 0.0391 - val_accuracy: 0.9882\n",
      "Epoch 4/5\n",
      "1121/1121 [==============================] - 588s 524ms/step - loss: 0.0230 - accuracy: 0.9935 - val_loss: 0.0447 - val_accuracy: 0.9861\n",
      "Epoch 5/5\n",
      "1121/1121 [==============================] - 1288s 1s/step - loss: 0.0114 - accuracy: 0.9965 - val_loss: 0.0386 - val_accuracy: 0.9896\n",
      "281/281 [==============================] - 48s 170ms/step - loss: 0.0386 - accuracy: 0.9896\n",
      "Bi-LSTM Accuracy Score: 0.989627480506897\n",
      "281/281 [==============================] - 46s 159ms/step\n",
      "y_bi_lstm_pred: [0 0 0 ... 0 0 0]\n"
     ]
    }
   ],
   "source": [
    "# Create the tokenizer object and fit it to the text data\n",
    "tokenizer = Tokenizer(num_words=10000)\n",
    "tokenizer.fit_on_texts(df['text'])\n",
    "\n",
    "# Transform the text data into sequences of integers\n",
    "sequences = tokenizer.texts_to_sequences(df['text'])\n",
    "\n",
    "# Pad the sequences to have the same length\n",
    "bi_ltsm_X = pad_sequences(sequences, maxlen=500)\n",
    "\n",
    "# Create the target variable\n",
    "bi_ltsm_y = df['whether_real']\n",
    "\n",
    "# Split the data into training and testing sets\n",
    "bi_ltsm_X_train, bi_ltsm_X_test, bi_ltsm_y_train, bi_ltsm_y_test = train_test_split(bi_ltsm_X, bi_ltsm_y, test_size=0.2, random_state=42)\n",
    "\n",
    "# Build the model\n",
    "bi_ltsm_model = Sequential()\n",
    "bi_ltsm_model.add(Embedding(10000, 128, input_length=500))\n",
    "bi_ltsm_model.add(Bidirectional(LSTM(64, return_sequences=True)))\n",
    "bi_ltsm_model.add(Bidirectional(LSTM(32)))\n",
    "bi_ltsm_model.add(Dense(1, activation='sigmoid'))\n",
    "\n",
    "# Compile the model\n",
    "bi_ltsm_model.compile(optimizer='adam', loss='binary_crossentropy', metrics=['accuracy'])\n",
    "\n",
    "# Train the model\n",
    "bi_ltsm_model.fit(bi_ltsm_X_train, bi_ltsm_y_train, epochs=5, batch_size=32, validation_data=(bi_ltsm_X_test, bi_ltsm_y_test))\n",
    "\n",
    "# Evaluate the model\n",
    "loss, bi_ltsm_accuracy = bi_ltsm_model.evaluate(bi_ltsm_X_test, bi_ltsm_y_test, batch_size=32)\n",
    "print('Bi-LSTM Accuracy Score:', bi_ltsm_accuracy)\n",
    "\n",
    "# Make predictions on the testing set\n",
    "y_bi_lstm_pred = np.argmax(bi_ltsm_model.predict(bi_ltsm_X_test),axis=1)\n",
    "print('y_bi_lstm_pred:', y_bi_lstm_pred)"
   ]
  },
  {
   "cell_type": "markdown",
   "metadata": {},
   "source": [
    "## 7.8 Convolutional neural network (CNN)"
   ]
  },
  {
   "cell_type": "markdown",
   "metadata": {},
   "source": [
    "I build a simple CNN model using Conv1D layer and GlobalMaxPooling1D layer to extract important features from the text data. The output of the model is a probability value between 0 and 1 which I can threshold to make binary predictions. I compile the model with the adam optimizer and binary_crossentropy loss function.I then train the model using the training data and make predictions on the testing set. \n",
    "\n",
    "This model utilizes the state-of-the-art methods in NLP, including convolutional neural networks and global max pooling for feature extraction. It can provide higher accuracy compared to traditional machine learning models."
   ]
  },
  {
   "cell_type": "code",
   "execution_count": 16,
   "metadata": {},
   "outputs": [
    {
     "name": "stdout",
     "output_type": "stream",
     "text": [
      "Epoch 1/5\n",
      "1121/1121 [==============================] - 54s 48ms/step - loss: 0.0592 - accuracy: 0.9790 - val_loss: 0.0144 - val_accuracy: 0.9963\n",
      "Epoch 2/5\n",
      "1121/1121 [==============================] - 54s 48ms/step - loss: 0.0031 - accuracy: 0.9994 - val_loss: 0.0178 - val_accuracy: 0.9962\n",
      "Epoch 3/5\n",
      "1121/1121 [==============================] - 53s 48ms/step - loss: 4.3854e-04 - accuracy: 1.0000 - val_loss: 0.0184 - val_accuracy: 0.9962\n",
      "Epoch 4/5\n",
      "1121/1121 [==============================] - 53s 47ms/step - loss: 4.1210e-04 - accuracy: 0.9999 - val_loss: 0.0189 - val_accuracy: 0.9970\n",
      "Epoch 5/5\n",
      "1121/1121 [==============================] - 53s 47ms/step - loss: 3.6401e-04 - accuracy: 1.0000 - val_loss: 0.0200 - val_accuracy: 0.9972\n",
      "281/281 [==============================] - 5s 16ms/step - loss: 0.0200 - accuracy: 0.9972\n",
      "CNN Accuracy Score: 0.9972116947174072\n",
      "281/281 [==============================] - 5s 17ms/step\n",
      "y_cnn_pred: [0 0 0 ... 0 0 0]\n"
     ]
    }
   ],
   "source": [
    "# Create the tokenizer object and fit it to the text data\n",
    "tokenizer = Tokenizer(num_words=10000)\n",
    "tokenizer.fit_on_texts(df['text'])\n",
    "\n",
    "# Transform the text data into sequences of integers\n",
    "sequences = tokenizer.texts_to_sequences(df['text'])\n",
    "\n",
    "# Pad the sequences to have the same length\n",
    "cnn_X = pad_sequences(sequences, maxlen=500)\n",
    "\n",
    "# Create the target variable\n",
    "cnn_y = df['whether_real']\n",
    "\n",
    "# Split the data into training and testing sets\n",
    "cnn_X_train, cnn_X_test, cnn_y_train, cnn_y_test = train_test_split(cnn_X, cnn_y, test_size=0.2, random_state=42)\n",
    "\n",
    "# Build the CNN model\n",
    "cnn_model = Sequential()\n",
    "cnn_model.add(Embedding(input_dim=10000, output_dim=128, input_length=500))\n",
    "cnn_model.add(Conv1D(filters=32, kernel_size=5, padding='same', activation='relu'))\n",
    "cnn_model.add(GlobalMaxPooling1D())\n",
    "cnn_model.add(Dense(128, activation='relu'))\n",
    "cnn_model.add(Dropout(0.2))\n",
    "cnn_model.add(Dense(1, activation='sigmoid'))\n",
    "\n",
    "# Compile the model\n",
    "cnn_model.compile(optimizer='adam', loss='binary_crossentropy', metrics=['accuracy'])\n",
    "\n",
    "# Train the model\n",
    "cnn_model.fit(cnn_X_train, cnn_y_train, epochs=5, batch_size=32, validation_data=(cnn_X_test, cnn_y_test))\n",
    "\n",
    "# Evaluate the performance of the model\n",
    "loss, cnn_accuracy = cnn_model.evaluate(cnn_X_test, cnn_y_test, batch_size=32)\n",
    "print('CNN Accuracy Score:', cnn_accuracy)\n",
    "\n",
    "# Make predictions on the testing set\n",
    "y_cnn_pred = np.argmax(cnn_model.predict(cnn_X_test),axis=1)\n",
    "print('y_cnn_pred:', y_cnn_pred)"
   ]
  },
  {
   "cell_type": "markdown",
   "metadata": {},
   "source": [
    "# 8. Evaluation"
   ]
  },
  {
   "cell_type": "markdown",
   "metadata": {},
   "source": [
    "## 8.1 Evaluating the Naive Bayes model using confusion matrix and sklearn metrics"
   ]
  },
  {
   "cell_type": "code",
   "execution_count": 17,
   "metadata": {},
   "outputs": [],
   "source": [
    "from matplotlib import pyplot as plt\n",
    "\n",
    "def plot_confusion_matrix(cm, classes, normalize=False, title='Confusion matrix', cmap=plt.cm.Blues, figure=0):\n",
    "    \"\"\"\n",
    "    Plots the confusion matrix `cm` as a heatmap using matplotlib.\n",
    "\n",
    "    :param cm: ndarray, confusion matrix\n",
    "    :param classes: list, class labels\n",
    "    :param normalize: bool, whether to normalize the confusion matrix or not\n",
    "    :param title: str, title of the plot\n",
    "    :param cmap: colormap to use for the heatmap\n",
    "    :param figure: int, figure number to use for the plot\n",
    "    \"\"\"\n",
    "    fig, ax = plt.subplots(num=figure)\n",
    "    im = ax.imshow(cm, interpolation='nearest', cmap=cmap)\n",
    "    ax.set_title(title)\n",
    "    plt.colorbar(im, ax=ax)\n",
    "    tick_marks = np.arange(len(classes))\n",
    "    ax.set_xticks(tick_marks)\n",
    "    ax.set_xticklabels(classes, rotation=45)\n",
    "    ax.set_yticks(tick_marks)\n",
    "    ax.set_yticklabels(classes)\n",
    "\n",
    "    if normalize:\n",
    "        cm = cm.astype('float') / cm.sum(axis=1)[:, np.newaxis]\n",
    "        print(\"Normalized confusion matrix\")\n",
    "    else:\n",
    "        print('Confusion matrix, without normalization')\n",
    "\n",
    "    thresh = cm.max() / 2.\n",
    "    for i in range(len(classes)):\n",
    "        for j in range(len(classes)):\n",
    "            ax.text(j, i, cm[i, j], ha=\"center\", va=\"center\",\n",
    "                    color=\"white\" if cm[i, j] > thresh else \"black\")\n",
    "\n",
    "    ax.set_ylabel('True label')\n",
    "    ax.set_xlabel('Predicted label')\n",
    "    fig.tight_layout()\n",
    "    plt.show()"
   ]
  },
  {
   "cell_type": "code",
   "execution_count": 19,
   "metadata": {},
   "outputs": [
    {
     "name": "stdout",
     "output_type": "stream",
     "text": [
      "Confusion matrix, without normalization\n"
     ]
    },
    {
     "data": {
      "image/png": "[encoded data removed]",
      "text/plain": [
       "<Figure size 432x288 with 2 Axes>"
      ]
     },
     "metadata": {
      "needs_background": "light"
     },
     "output_type": "display_data"
    }
   ],
   "source": [
    "# Calculate the confusion matrices for the nb model\n",
    "nb_cm = confusion_matrix(y_test, y_nb_pred)\n",
    "\n",
    "# Plot the nb_cm confusion matrix\n",
    "plot_confusion_matrix(nb_cm, classes=['True News', 'Fake News'], title= \"Naive Bayes Confusion Matrix\")"
   ]
  },
  {
   "cell_type": "markdown",
   "metadata": {},
   "source": [
    "For the first dataset, the result of the confusion matrix of the naive bayes model: the value of true positive is 4407, the value of true negative is 3960, the value of false positive is 297, and the value of false negative of 302.\n",
    "\n",
    "For the second dataset, the result of the confusion matrix of the naive bayes model: the value of true positive is 387, the value of true negative is 172, the value of false positive is 254, and the value of false negative of 99."
   ]
  },
  {
   "cell_type": "code",
   "execution_count": 20,
   "metadata": {},
   "outputs": [
    {
     "name": "stdout",
     "output_type": "stream",
     "text": [
      "              precision    recall  f1-score   support\n",
      "\n",
      "           0       0.94      0.94      0.94      4709\n",
      "           1       0.93      0.93      0.93      4257\n",
      "\n",
      "    accuracy                           0.93      8966\n",
      "   macro avg       0.93      0.93      0.93      8966\n",
      "weighted avg       0.93      0.93      0.93      8966\n",
      "\n"
     ]
    }
   ],
   "source": [
    "# print a hoslitic report of Naive Bayes classifier report on precision, recall, f1-score, and support\n",
    "nb_classifier_report = classification_report(y_test, y_nb_pred)\n",
    "\n",
    "# print the report\n",
    "print(nb_classifier_report)"
   ]
  },
  {
   "cell_type": "markdown",
   "metadata": {},
   "source": [
    "## 8.2 Evaluating the support vector machine model using confusion matrix and sklearn metrics"
   ]
  },
  {
   "cell_type": "code",
   "execution_count": 21,
   "metadata": {},
   "outputs": [
    {
     "name": "stdout",
     "output_type": "stream",
     "text": [
      "Confusion matrix, without normalization\n"
     ]
    },
    {
     "data": {
      "image/png": "[encoded data removed]",
      "text/plain": [
       "<Figure size 432x288 with 2 Axes>"
      ]
     },
     "metadata": {
      "needs_background": "light"
     },
     "output_type": "display_data"
    }
   ],
   "source": [
    "# Calculate the confusion matrices for the svm model\n",
    "svm_cm = confusion_matrix(y_test, y_svm_pred)\n",
    "\n",
    "# Plot the svm_cm confusion matrix\n",
    "plot_confusion_matrix(svm_cm, classes=['True News', 'Fake News'], title= \"Support Vector Machine Confusion Matrix\")"
   ]
  },
  {
   "cell_type": "markdown",
   "metadata": {},
   "source": [
    "For the first dataset, the result of the confusion matrix of the support vector machine model: the value of true positive is 4672, the value of true negative is 4226, the value of false positive is 31, and the value of false negative of 37.\n",
    "\n",
    "For the second dataset, the result of the confusion matrix of the support vector machine model: the value of true positive is 339, the value of true negative is 225, the value of false positive is 201, and the value of false negative of 147."
   ]
  },
  {
   "cell_type": "code",
   "execution_count": 22,
   "metadata": {},
   "outputs": [
    {
     "name": "stdout",
     "output_type": "stream",
     "text": [
      "              precision    recall  f1-score   support\n",
      "\n",
      "           0       0.99      0.99      0.99      4709\n",
      "           1       0.99      0.99      0.99      4257\n",
      "\n",
      "    accuracy                           0.99      8966\n",
      "   macro avg       0.99      0.99      0.99      8966\n",
      "weighted avg       0.99      0.99      0.99      8966\n",
      "\n"
     ]
    }
   ],
   "source": [
    "# print a hoslitic report of support vector machine classifier report on precision, recall, f1-score, and support\n",
    "svm_classifier_report = classification_report(y_test, y_svm_pred)\n",
    "\n",
    "# print the report\n",
    "print(svm_classifier_report)"
   ]
  },
  {
   "cell_type": "markdown",
   "metadata": {},
   "source": [
    "## 8.3 Evaluating the logistic regression model using confusion matrix and sklearn metrics"
   ]
  },
  {
   "cell_type": "code",
   "execution_count": 23,
   "metadata": {},
   "outputs": [
    {
     "name": "stdout",
     "output_type": "stream",
     "text": [
      "Confusion matrix, without normalization\n"
     ]
    },
    {
     "data": {
      "image/png": "[encoded data removed]",
      "text/plain": [
       "<Figure size 432x288 with 2 Axes>"
      ]
     },
     "metadata": {
      "needs_background": "light"
     },
     "output_type": "display_data"
    }
   ],
   "source": [
    "# Calculate the confusion matrices for the lr model\n",
    "lr_cm = confusion_matrix(y_test, y_lr_pred)\n",
    "\n",
    "# Plot the lr_cm confusion matrix\n",
    "plot_confusion_matrix(lr_cm, classes=['True News', 'Fake News'], title=\"Logistic Regression Confusion Matrix\")"
   ]
  },
  {
   "cell_type": "markdown",
   "metadata": {},
   "source": [
    "For the first dataset, the result of the confusion matrix of the support vector machine model: the value of true positive is 4634, the value of true negative is 4203, the value of false positive is 54, and the value of false negative of 75.\n",
    "\n",
    "For the second dataset, the result of the confusion matrix of the support vector machine model: the value of true positive is 368, the value of true negative is 196, the value of false positive is 230, and the value of false negative of 118."
   ]
  },
  {
   "cell_type": "code",
   "execution_count": 24,
   "metadata": {},
   "outputs": [
    {
     "name": "stdout",
     "output_type": "stream",
     "text": [
      "              precision    recall  f1-score   support\n",
      "\n",
      "           0       0.99      0.98      0.99      4709\n",
      "           1       0.98      0.99      0.98      4257\n",
      "\n",
      "    accuracy                           0.99      8966\n",
      "   macro avg       0.99      0.99      0.99      8966\n",
      "weighted avg       0.99      0.99      0.99      8966\n",
      "\n"
     ]
    }
   ],
   "source": [
    "# print a hoslitic report of logistic regression classifier report on precision, recall, f1-score, and support\n",
    "lr_classifier_report = classification_report(y_test, y_lr_pred)\n",
    "\n",
    "# print the report\n",
    "print(lr_classifier_report)"
   ]
  },
  {
   "cell_type": "markdown",
   "metadata": {},
   "source": [
    "## 8.4 Evaluating the random forest classifier model using confusion matrix and sklearn metrics"
   ]
  },
  {
   "cell_type": "code",
   "execution_count": 25,
   "metadata": {},
   "outputs": [
    {
     "name": "stdout",
     "output_type": "stream",
     "text": [
      "Confusion matrix, without normalization\n"
     ]
    },
    {
     "data": {
      "image/png": "[encoded data removed]",
      "text/plain": [
       "<Figure size 432x288 with 2 Axes>"
      ]
     },
     "metadata": {
      "needs_background": "light"
     },
     "output_type": "display_data"
    }
   ],
   "source": [
    "# Calculate the confusion matrices for the rf model\n",
    "rf_cm = confusion_matrix(y_test, y_rf_pred)\n",
    "\n",
    "# Plot the rf_cm confusion matrix \n",
    "plot_confusion_matrix(rf_cm, classes=['True News', 'Fake News'], title=\"Random Forest Confusion Matrix\")"
   ]
  },
  {
   "cell_type": "markdown",
   "metadata": {},
   "source": [
    "For the first dataset, the result of the confusion matrix of the support vector machine model: the value of true positive is 4660, the value of true negative is 4231, the value of false positive is 26, and the value of false negative of 49.\n",
    "\n",
    "For the second dataset, the result of the confusion matrix of the support vector machine model: the value of true positive is 382, the value of true negative is 156, the value of false positive is 270, and the value of false negative of 104 ."
   ]
  },
  {
   "cell_type": "code",
   "execution_count": 26,
   "metadata": {},
   "outputs": [
    {
     "name": "stdout",
     "output_type": "stream",
     "text": [
      "              precision    recall  f1-score   support\n",
      "\n",
      "           0       0.99      0.99      0.99      4709\n",
      "           1       0.99      0.99      0.99      4257\n",
      "\n",
      "    accuracy                           0.99      8966\n",
      "   macro avg       0.99      0.99      0.99      8966\n",
      "weighted avg       0.99      0.99      0.99      8966\n",
      "\n"
     ]
    }
   ],
   "source": [
    "# print a hoslitic report of random forest classifier report on precision, recall, f1-score, and support\n",
    "rf_classifier_report = classification_report(y_test, y_rf_pred)\n",
    "\n",
    "# print the report\n",
    "print(rf_classifier_report)"
   ]
  },
  {
   "cell_type": "markdown",
   "metadata": {},
   "source": [
    "## 8.5 Evaluating the KNN model using confusion matrix and sklearn metrics"
   ]
  },
  {
   "cell_type": "code",
   "execution_count": 27,
   "metadata": {},
   "outputs": [
    {
     "name": "stdout",
     "output_type": "stream",
     "text": [
      "Confusion matrix, without normalization\n"
     ]
    },
    {
     "data": {
      "image/png": "[encoded data removed]",
      "text/plain": [
       "<Figure size 432x288 with 2 Axes>"
      ]
     },
     "metadata": {
      "needs_background": "light"
     },
     "output_type": "display_data"
    }
   ],
   "source": [
    "# Calculate the confusion matrices for the count_nb model\n",
    "knn_cm = confusion_matrix(y_test, y_knn_pred)\n",
    "\n",
    "# Plot the knn_cm confusion matrix \n",
    "plot_confusion_matrix(knn_cm, classes=['True News', 'Fake News'], title=\"KNN Confusion Matrix\")"
   ]
  },
  {
   "cell_type": "markdown",
   "metadata": {},
   "source": [
    "For the first dataset, the result of the confusion matrix of the support vector machine model: the value of true positive is 4650, the value of true negative is 1119, the value of false positive is 3138, and the value of false negative of 59.\n",
    "\n",
    "For the second dataset, the result of the confusion matrix of the support vector machine model: the value of true positive is 307, the value of true negative is 201, the value of false positive is 225, and the value of false negative of 179."
   ]
  },
  {
   "cell_type": "code",
   "execution_count": 28,
   "metadata": {},
   "outputs": [
    {
     "name": "stdout",
     "output_type": "stream",
     "text": [
      "              precision    recall  f1-score   support\n",
      "\n",
      "           0       0.60      0.99      0.74      4709\n",
      "           1       0.95      0.26      0.41      4257\n",
      "\n",
      "    accuracy                           0.64      8966\n",
      "   macro avg       0.77      0.63      0.58      8966\n",
      "weighted avg       0.76      0.64      0.59      8966\n",
      "\n"
     ]
    }
   ],
   "source": [
    "# print a hoslitic report of knn classifier report on precision, recall, f1-score, and support\n",
    "knn_classifier_report = classification_report(y_test, y_knn_pred)\n",
    "\n",
    "# print the report\n",
    "print(knn_classifier_report)"
   ]
  },
  {
   "cell_type": "markdown",
   "metadata": {},
   "source": [
    "## 8.6 Evaluating the LSTM model using confusion matrix and sklearn metrics"
   ]
  },
  {
   "cell_type": "code",
   "execution_count": 29,
   "metadata": {},
   "outputs": [
    {
     "name": "stdout",
     "output_type": "stream",
     "text": [
      "Confusion matrix, without normalization\n"
     ]
    },
    {
     "data": {
      "image/png": "[encoded data removed]",
      "text/plain": [
       "<Figure size 432x288 with 2 Axes>"
      ]
     },
     "metadata": {
      "needs_background": "light"
     },
     "output_type": "display_data"
    }
   ],
   "source": [
    "# Calculate the confusion matrices for the count_nb model\n",
    "lstm_cm = confusion_matrix(y_test, y_lstm_pred)\n",
    "\n",
    "# Plot the lstm_cm confusion matrix \n",
    "plot_confusion_matrix(lstm_cm, classes=['True News', 'Fake News'], title=\"LSTM Confusion Matrix\")"
   ]
  },
  {
   "cell_type": "markdown",
   "metadata": {},
   "source": [
    "For the first dataset, the result of the confusion matrix of the support vector machine model: the value of true positive is 4709, the value of true negative is 0, the value of false positive is 4257, and the value of false negative of 0.\n",
    "\n",
    "For the second dataset, the result of the confusion matrix of the support vector machine model: the value of true positive is 486, the value of true negative is 0, the value of false positive is 426, and the value of false negative of 0."
   ]
  },
  {
   "cell_type": "code",
   "execution_count": 30,
   "metadata": {
    "scrolled": true
   },
   "outputs": [
    {
     "name": "stdout",
     "output_type": "stream",
     "text": [
      "              precision    recall  f1-score   support\n",
      "\n",
      "           0       0.53      1.00      0.69      4709\n",
      "           1       0.00      0.00      0.00      4257\n",
      "\n",
      "    accuracy                           0.53      8966\n",
      "   macro avg       0.26      0.50      0.34      8966\n",
      "weighted avg       0.28      0.53      0.36      8966\n",
      "\n"
     ]
    },
    {
     "name": "stderr",
     "output_type": "stream",
     "text": [
      "C:\\ProgramData\\Anaconda3\\lib\\site-packages\\sklearn\\metrics\\_classification.py:1318: UndefinedMetricWarning: Precision and F-score are ill-defined and being set to 0.0 in labels with no predicted samples. Use `zero_division` parameter to control this behavior.\n",
      "  _warn_prf(average, modifier, msg_start, len(result))\n",
      "C:\\ProgramData\\Anaconda3\\lib\\site-packages\\sklearn\\metrics\\_classification.py:1318: UndefinedMetricWarning: Precision and F-score are ill-defined and being set to 0.0 in labels with no predicted samples. Use `zero_division` parameter to control this behavior.\n",
      "  _warn_prf(average, modifier, msg_start, len(result))\n",
      "C:\\ProgramData\\Anaconda3\\lib\\site-packages\\sklearn\\metrics\\_classification.py:1318: UndefinedMetricWarning: Precision and F-score are ill-defined and being set to 0.0 in labels with no predicted samples. Use `zero_division` parameter to control this behavior.\n",
      "  _warn_prf(average, modifier, msg_start, len(result))\n"
     ]
    }
   ],
   "source": [
    "# print a hoslitic report of LSTM classifier report on precision, recall, f1-score, and support\n",
    "lstm_classifier_report = classification_report(y_test, y_lstm_pred)\n",
    "\n",
    "# print the report\n",
    "print(lstm_classifier_report)"
   ]
  },
  {
   "cell_type": "markdown",
   "metadata": {},
   "source": [
    "## 8.7 Evaluating the bidirectional LSTM layer model using confusion matrix and sklearn metrics"
   ]
  },
  {
   "cell_type": "code",
   "execution_count": 31,
   "metadata": {},
   "outputs": [
    {
     "name": "stdout",
     "output_type": "stream",
     "text": [
      "Confusion matrix, without normalization\n"
     ]
    },
    {
     "data": {
      "image/png": "[encoded data removed]",
      "text/plain": [
       "<Figure size 432x288 with 2 Axes>"
      ]
     },
     "metadata": {
      "needs_background": "light"
     },
     "output_type": "display_data"
    }
   ],
   "source": [
    "# Calculate the confusion matrices for the bi-LSTM model\n",
    "bi_lstm_cm = confusion_matrix(y_test, y_bi_lstm_pred)\n",
    "\n",
    "# Plot the bi_lstm_cm confusion matrix \n",
    "plot_confusion_matrix(bi_lstm_cm, classes=['True News', 'Fake News'], title=\"bidirectional LSTM Confusion Matrix\")"
   ]
  },
  {
   "cell_type": "markdown",
   "metadata": {},
   "source": [
    "For the first dataset, the result of the confusion matrix of the support vector machine model: the value of true positive is 4709, the value of true negative is 0, the value of false positive is 4257, and the value of false negative of 0.\n",
    "\n",
    "For the second dataset, the result of the confusion matrix of the support vector machine model: the value of true positive is 486, the value of true negative is 0, the value of false positive is 426, and the value of false negative of 0."
   ]
  },
  {
   "cell_type": "code",
   "execution_count": 32,
   "metadata": {},
   "outputs": [
    {
     "name": "stdout",
     "output_type": "stream",
     "text": [
      "              precision    recall  f1-score   support\n",
      "\n",
      "           0       0.53      1.00      0.69      4709\n",
      "           1       0.00      0.00      0.00      4257\n",
      "\n",
      "    accuracy                           0.53      8966\n",
      "   macro avg       0.26      0.50      0.34      8966\n",
      "weighted avg       0.28      0.53      0.36      8966\n",
      "\n"
     ]
    },
    {
     "name": "stderr",
     "output_type": "stream",
     "text": [
      "C:\\ProgramData\\Anaconda3\\lib\\site-packages\\sklearn\\metrics\\_classification.py:1318: UndefinedMetricWarning: Precision and F-score are ill-defined and being set to 0.0 in labels with no predicted samples. Use `zero_division` parameter to control this behavior.\n",
      "  _warn_prf(average, modifier, msg_start, len(result))\n",
      "C:\\ProgramData\\Anaconda3\\lib\\site-packages\\sklearn\\metrics\\_classification.py:1318: UndefinedMetricWarning: Precision and F-score are ill-defined and being set to 0.0 in labels with no predicted samples. Use `zero_division` parameter to control this behavior.\n",
      "  _warn_prf(average, modifier, msg_start, len(result))\n",
      "C:\\ProgramData\\Anaconda3\\lib\\site-packages\\sklearn\\metrics\\_classification.py:1318: UndefinedMetricWarning: Precision and F-score are ill-defined and being set to 0.0 in labels with no predicted samples. Use `zero_division` parameter to control this behavior.\n",
      "  _warn_prf(average, modifier, msg_start, len(result))\n"
     ]
    }
   ],
   "source": [
    "# print a hoslitic report of bi-LSTM classifier report on precision, recall, f1-score, and support\n",
    "bi_lstm_classifier_report = classification_report(y_test, y_bi_lstm_pred)\n",
    "\n",
    "# print the report\n",
    "print(bi_lstm_classifier_report)"
   ]
  },
  {
   "cell_type": "markdown",
   "metadata": {},
   "source": [
    "## 8.8 Evaluating the CNN model using confusion matrix and sklearn metrics"
   ]
  },
  {
   "cell_type": "code",
   "execution_count": 33,
   "metadata": {},
   "outputs": [
    {
     "name": "stdout",
     "output_type": "stream",
     "text": [
      "Confusion matrix, without normalization\n"
     ]
    },
    {
     "data": {
      "image/png": "[encoded data removed]",
      "text/plain": [
       "<Figure size 432x288 with 2 Axes>"
      ]
     },
     "metadata": {
      "needs_background": "light"
     },
     "output_type": "display_data"
    }
   ],
   "source": [
    "# Calculate the confusion matrices for the cnn model\n",
    "cnn_cm = confusion_matrix(cnn_y_test, y_cnn_pred)\n",
    "\n",
    "# Plot the cnn_cm confusion matrix \n",
    "plot_confusion_matrix(cnn_cm, classes=['True News', 'Fake News'], title=\"CNN Confusion Matrix\")"
   ]
  },
  {
   "cell_type": "markdown",
   "metadata": {},
   "source": [
    "For the first dataset, the result of the confusion matrix of the support vector machine model: the value of true positive is 4709, the value of true negative is 0, the value of false positive is 4257, and the value of false negative of 0.\n",
    "\n",
    "For the second dataset, the result of the confusion matrix of the support vector machine model: the value of true positive is 486, the value of true negative is 0, the value of false positive is 426, and the value of false negative of 0."
   ]
  },
  {
   "cell_type": "code",
   "execution_count": 34,
   "metadata": {},
   "outputs": [
    {
     "name": "stdout",
     "output_type": "stream",
     "text": [
      "              precision    recall  f1-score   support\n",
      "\n",
      "           0       0.53      1.00      0.69      4709\n",
      "           1       0.00      0.00      0.00      4257\n",
      "\n",
      "    accuracy                           0.53      8966\n",
      "   macro avg       0.26      0.50      0.34      8966\n",
      "weighted avg       0.28      0.53      0.36      8966\n",
      "\n"
     ]
    },
    {
     "name": "stderr",
     "output_type": "stream",
     "text": [
      "C:\\ProgramData\\Anaconda3\\lib\\site-packages\\sklearn\\metrics\\_classification.py:1318: UndefinedMetricWarning: Precision and F-score are ill-defined and being set to 0.0 in labels with no predicted samples. Use `zero_division` parameter to control this behavior.\n",
      "  _warn_prf(average, modifier, msg_start, len(result))\n",
      "C:\\ProgramData\\Anaconda3\\lib\\site-packages\\sklearn\\metrics\\_classification.py:1318: UndefinedMetricWarning: Precision and F-score are ill-defined and being set to 0.0 in labels with no predicted samples. Use `zero_division` parameter to control this behavior.\n",
      "  _warn_prf(average, modifier, msg_start, len(result))\n",
      "C:\\ProgramData\\Anaconda3\\lib\\site-packages\\sklearn\\metrics\\_classification.py:1318: UndefinedMetricWarning: Precision and F-score are ill-defined and being set to 0.0 in labels with no predicted samples. Use `zero_division` parameter to control this behavior.\n",
      "  _warn_prf(average, modifier, msg_start, len(result))\n"
     ]
    }
   ],
   "source": [
    "# print a hoslitic report of cnn classifier report on precision, recall, f1-score, and support\n",
    "cnn_classifier_report = classification_report(cnn_y_test, y_cnn_pred)\n",
    "\n",
    "# print the report\n",
    "print(cnn_classifier_report)"
   ]
  },
  {
   "cell_type": "markdown",
   "metadata": {},
   "source": [
    "## 8.9 Quantitative evaluation of the performance of these eight models"
   ]
  },
  {
   "cell_type": "markdown",
   "metadata": {},
   "source": [
    "The evaluation results of these eight models used in this project for two datasets are displayed below in a table respectively. In order to keep the table clean, I remove percent sign for each data.\n",
    "\n",
    "The first table is the summary of evaluation results for the first database, namely ISOT fake news dataset.\n",
    "\n",
    "\n",
    "The second table is the summary of evaluation results for the second database, namely LIAR fake news dataset."
   ]
  },
  {
   "cell_type": "markdown",
   "metadata": {},
   "source": [
    "* The summary of evaluation results for the first database:"
   ]
  },
  {
   "cell_type": "markdown",
   "metadata": {},
   "source": [
    "| **model** | accuracy  | precision  | recall |f1-score | \n",
    "|:----------:|--------------------:|:--------:|:--------:| :--------:|  \n",
    "| **Naive Bayes**  | `93`  |   `93`   | `93`     | `93`      |  \n",
    "| **Support Vector Machine**               | `99`  |  `99`     |`99`     |  `99`      |  \n",
    "| **Logistic Regression**     | `98`    |`99`       |  `99`      | `99`      | \n",
    "| **Random Forest**         | `99`         |  `99`     |  `99`      |  `99`     |   \n",
    "| **KNN**         | `64`         |  `76`     |  `64`      |  `59`     |   \n",
    "| **LSTM**         | `98`         |  `28`     |  `53`      |  `36`     | \n",
    "| **bidirectional LSTM**         | `99`         |  `28`     |  `53`      |  `36`     |   \n",
    "| **Convolutional Neural Network**         | `99`         |  `28`     |  `53`      |  `36`     |     \n"
   ]
  },
  {
   "cell_type": "markdown",
   "metadata": {},
   "source": [
    "It is obvious that both **Random Forest** and **Support Vector Machine** perform the best among these eight models for fake news detection. It is worth noting that Logistic Regression had the same performance to these models except for the accuracy score being 1% smaller than these two models. Among these eight models, Naive Bayes ranks fourth in performance. The performance of KNN model had the lowest accuracy among these eight models and its f1-score is lower than the performance of Random Forest, Support Vector Machine, Logistic Regression, and Naive Bayes. However, the f1-score of KNN model is better than the performance of these three advanced models, namely LSTM, bidirectional LSTM, and CNN.\n",
    "\n",
    "Surprisingly, the three advanced models, which require relatively larger computational power, perform extremely well in accuracy (99% accuracy for each model), but these three models perform unsatisfactory in precision, recall, and f1-score, even largely beaten by simple models like Naive Bayes and KNN."
   ]
  },
  {
   "cell_type": "markdown",
   "metadata": {},
   "source": [
    "* The summary of evaluation results for the second database:"
   ]
  },
  {
   "cell_type": "markdown",
   "metadata": {},
   "source": [
    "| **model** | accuracy  | precision  | recall |f1-score | \n",
    "|:----------:|--------------------:|:--------:|:--------:| :--------:|  \n",
    "| **Naive Bayes**  | `61`  |   `62`   | `61`     | `60`      |  \n",
    "| **Support Vector Machine**               | `62`  |  `62`     |`62`     |  `62`      |  \n",
    "| **Logistic Regression**     | `62`  |  `62`     |`62`     |  `61`      |  \n",
    "| **Random Forest**         | `59`         |  `59`     |  `59`      |  `57`     |   \n",
    "| **KNN**         | `56`         |  `55`     |  `56`      |  `55`     |   \n",
    "| **LSTM**         | `60`         |  `28`     |  `53`      |  `37`     | \n",
    "| **bidirectional LSTM**         | `59`         |  `28`     |  `53`      |  `37`     |\n",
    "| **Convolutional Neural Network**         | `63`         |  `28`     |  `53`      |  `37`     |     \n"
   ]
  },
  {
   "cell_type": "markdown",
   "metadata": {},
   "source": [
    "Based on the second table, it is obvious that **Support Vector Machine** had the best performance among these eight models for fake news detection, closely followed by Logistic Regression with only 1% smaller in f1-score. It is worth noting that Naive Bayes had the same performance to these two models except for the accuracy score, recall, and f1-score being 1% smaller than these two models. Among these eight models, Random Forest ranks fourth in performance. The performance of KNN model had the lowest accuracy among these eight models and its f1-score is lower than the performance of Random Forest, Support Vector Machine, Logistic Regression, and Naive Bayes. However, the f1-score of KNN model is better than the performance of these three advanced models, namely LSTM, bidirectional LSTM, and CNN.\n",
    "\n",
    "\n",
    "\n",
    "Although the three advanced models have higher performance of accuracy than KNN, and CNN even has the highest accuracy among these eight models, the f1-score of these three advanced models does not achieve satisfactory performance, even largely beaten by simple models like Naive Bayes and KNN."
   ]
  },
  {
   "cell_type": "markdown",
   "metadata": {},
   "source": [
    "# 9. Conclusion"
   ]
  },
  {
   "cell_type": "markdown",
   "metadata": {},
   "source": [
    "## 9.1 Summary the project"
   ]
  },
  {
   "cell_type": "markdown",
   "metadata": {},
   "source": [
    "First, Support Vector Machine performs the best among these eight models for both datasets. Support Vector Machine is usually regarded as an efficient and fast-running classifier for text classification (Mishra et al., 2022). Thus, for personal users and small companies when using machine learning methods for text classification, Support Vector Machine may become a very suitable and cheap choice because it does not require expensive computing power. In addition, Support Vector Machine can generate the text classification result much faster than advanced models like LSTM, bidirectional LSTM, and CNN.\n",
    "\n",
    "\n",
    "Second, the three traditional machine learning methods for text classification, namely Random Forest, Logistic Regression, and Naive Bayes, are alternative choices for text classification. For both datasets, these three models have comparable performance to the best performance model Support Vector Machine. In addition, these three models are also fast and do not need large computing power.\n",
    "\n",
    "Third, KNN is the model which ranked in the middle (i.e., the fifth rank) in terms of precision, recall and f1-score among these eight models for both datasets. However, the performance of the KNN model had the lowest accuracy performance among these eight models for both datasets. To be specific, the f1-score of the KNN model is better than the performance of these three advanced models, namely LSTM, bidirectional LSTM, and CNN, but the performance of the KNN model had the lowest accuracy among these eight models and its f1-score is lower than the performance of Random Forest, Support Vector Machine, Logistic Regression, and Naive Bayes. \n",
    "\n",
    "\n",
    "Fourth, the three advanced models (i.e., LSTM, bidirectional LSTM, and CNN), which require relatively larger computational power, perform extremely well in accuracy (99% accuracy for each model), but these three models perform unsatisfactory in precision, recall, and f1-score, even largely beaten by simple models like Naive Bayes and KNN. The reason behind the high accuracy and low f1-score is probably due to overfitting (Ying, 2019).\n",
    "\n",
    "\n",
    "Fifth, the performance of these five traditional models used in this study is better than the performance of the benchmark of these five traditional models mentioned in the baseline part (i.e., the second chapter of this report). This is mainly caused by the adoption of different datasets in this project and studies in the literature. The performance of classifiers for fake news detection may vary based on the adoption of different datasets (Ahmad & Aftab, 2017)."
   ]
  },
  {
   "cell_type": "markdown",
   "metadata": {},
   "source": [
    "## 9.2 Implications of the findings"
   ]
  },
  {
   "cell_type": "markdown",
   "metadata": {},
   "source": [
    "This final project has made comparisons between five common classifiers (i.e., Naive Bayes, support vector machine, logistic regression, random forest classifier, and K-Nearest Neighbors) and three advanced classifiers (i.e., LSTM, bidirectional LSTM, and CNN) in terms of four metrics, namely accuracy, precision, recall, and f1-score. \n",
    "\n",
    "\n",
    "This study has found that **Support Vector Machine** rank the highest among these eight models for fake news detection. The model outperforms computation-intensive models like LSTM, bidirectional LSTM, and CNN. Since**Support Vector Machine** is fast (i.e., the model will finish its model running in 1 minute) and require less computation power, it is reasonable to adopt the model when facing the task of fake news detection for a dataset like 40 thousand rows of news text. Regarding the fast execution time of **Support Vector Machine**, it is more economical to run the model for fake news detection comparing with advanced but computation-intensive models like LSTM, bidirectional LSTM, and CNN. This conclusion is applicable to datasets smaller than 40 thousand rows. It is highly likely that this conclusion is also applicable to datasets with approximately one hundred thousand rows of news text. \n",
    "\n",
    "\n",
    "Thus, Support Vector Machine has become a suitable and economical solution to automated fake news detection for personal users and small companies of machine learning models. This small model can be trained in less time and has produced greater performance to to state-of-the-art large models (Tan & Le, 2021). Support Vector Machine is such an energy-efficient and effective classifier which have greater model performance to advanced models."
   ]
  },
  {
   "cell_type": "markdown",
   "metadata": {},
   "source": [
    "## 9.3 Limitations of the study"
   ]
  },
  {
   "cell_type": "markdown",
   "metadata": {},
   "source": [
    "There are two limitations to this study. First, only two datasets are used for this project. The labeled datasets ISOT and LIAR have been widely used in fake news detection (Wang, 2017). However, there are other possible datasets for the study of fake news detection (Mdepak, 2019). Most of these datasets are raw and need human data labeling. In other words, most of these datasets lack the target column which indicates whether the text in the same row is a piece of fake news or not.\n",
    "\n",
    "Second, I use restricted computing power in this project. The computer does not have a discrete graphics card. Thus, I set the epoch as a small number being only 5. It is possible to set the epoch number higher to detect whether the situation of overfitting has improved. However, due to the lack of computing power, it becomes nearly impossible to conduct this trial."
   ]
  },
  {
   "cell_type": "markdown",
   "metadata": {},
   "source": [
    "## 9.4 Suggestions for future research"
   ]
  },
  {
   "cell_type": "markdown",
   "metadata": {},
   "source": [
    "Future research on this topic can be conducted with more labeled datasets and strong computing power to generate more comprehensive and general research results for model comparison between traditional machine learning methods and advanced machine learning models. In addition, it is also meaningful to add other advanced methods like transformer and mixed models into the study and generate the results to compare between state-of-the-art models and traditional machine learning models."
   ]
  },
  {
   "cell_type": "markdown",
   "metadata": {},
   "source": [
    "# 10. References"
   ]
  },
  {
   "cell_type": "markdown",
   "metadata": {},
   "source": [
    "Abu Arqoub, O., Abdulateef Elega, A., Efe Özad, B., Dwikat, H., & Adedamola Oloyede, F. (2022). Mapping the scholarship of fake news research: A systematic review. Journalism Practice, 16(1), 56-86.\n",
    "\n",
    "Ahmad, M., & Aftab, S. (2017). Analyzing the performance of SVM for polarity detection with different datasets. International Journal of Modern Education and Computer Science, 9(10), 29.\n",
    "\n",
    "Ahmed, A. A. A., Aljabouh, A., Donepudi, P. K., & Choi, M. S. (2021). Detecting fake news using machine learning: A systematic literature review. arXiv preprint arXiv:2102.04458.\n",
    "\n",
    "\n",
    "#Ahmed H, Traore I, Saad S. “Detecting opinion spams and fake news using text classification”, Journal of Security and Privacy, Volume 1, Issue 1, Wiley,January/February 2018.\n",
    "\n",
    "Albawi, S., Mohammed, T. A., & Al-Zawi, S. (2017, August). Understanding of a convolutional neural network. In 2017 international conference on engineering and technology (ICET) (pp. 1-6). Ieee.\n",
    "\n",
    "Andersen, J., & Søe, S. O. (2020). Communicative actions we live by: The problem with fact-checking, tagging or flagging fake news–the case of Facebook. European Journal of Communication, 35(2), 126-139.\n",
    "\n",
    "Bahad, P., Saxena, P., & Kamal, R. (2019). Fake news detection using bi-directional LSTM-recurrent neural network. Procedia Computer Science, 165, 74-82.\n",
    "\n",
    "Bai, X. (2018, September). Text classification based on LSTM and attention. In 2018 Thirteenth International Conference on Digital Information Management (ICDIM) (pp. 29-32). IEEE.\n",
    "\n",
    "Busioc, C., Ruseti, S., & Dascalu, M. (2020). A Literature Review of NLP Approaches to Fake News Detection and Their Applicability to RomanianLanguage News Analysis. Revista Transilvania, (10).\n",
    "Granik, M., & Mesyura, V. (2017, May). Fake news detection using naive Bayes classifier. In 2017 IEEE first Ukraine conference on electrical and computer engineering (UKRCON) (pp. 900-903). IEEE.\n",
    "\n",
    "Cutler, A., Cutler, D.R., Stevens, J.R. (2012). Random Forests. In: Zhang, C., Ma, Y. (eds) Ensemble Machine Learning. Springer, New York, NY. https://doi.org/10.1007/978-1-4419-9326-7_5\n",
    "\n",
    "De Beer, D., & Matthee, M. (2021). Approaches to identify fake news: a systematic literature review. Integrated Science in Digital Age 2020, 13-22.\n",
    "\n",
    "Domínguez-Almendros, S., Benítez-Parejo, N., & Gonzalez-Ramirez, A. R. (2011). Logistic regression models. Allergologia et immunopathologia, 39(5), 295-305.\n",
    "\n",
    "Graves, A., Fernández, S., & Schmidhuber, J. (2005). Bidirectional LSTM networks for improved phoneme classification and recognition. In Artificial Neural Networks: Formal Models and Their Applications–ICANN 2005: 15th International Conference, Warsaw, Poland, September 11-15, 2005. Proceedings, Part II 15 (pp. 799-804). Springer Berlin Heidelberg.\n",
    "\n",
    "Graves, A. (2012). Long short-term memory. Supervised sequence labelling with recurrent neural networks. In Studies in Computational Intelligence (Vol. 385). Springer.\n",
    "\n",
    "Habernal, I., & Gurevych, I. (2016, August). Which argument is more convincing? analyzing and predicting convincingness of web arguments using bidirectional lstm. In Proceedings of the 54th Annual Meeting of the Association for Computational Linguistics (Volume 1: Long Papers) (pp. 1589-1599).\n",
    "\n",
    "Hochreiter, S., & Schmidhuber, J. (1997). Long short-term memory. Neural computation, 9(8), 1735-1780.\n",
    "\n",
    "Jakkula, V. (2006). Tutorial on support vector machine (svm). School of EECS, Washington State University, 37(2.5), 3.\n",
    "\n",
    "Kaur, S., Kumar, P., & Kumaraguru, P. (2020). Automating fake news detection system using multi-level voting model. Soft Computing, 24(12), 9049-9069.\n",
    "\n",
    "Kramer, O. (2013). K-nearest neighbors. Dimensionality reduction with unsupervised nearest neighbors, 13-23.\n",
    "\n",
    "Li, B., Pandey, S., Fang, H., Lyv, Y., Li, J., Chen, J., ... & Ding, C. (2020, August). Ftrans: energy-efficient acceleration of transformers using fpga. In Proceedings of the ACM/IEEE International Symposium on Low Power Electronics and Design (pp. 175-180).\n",
    "\n",
    "Manzoor, S. I., & Singla, J. (2019, April). Fake news detection using machine learning approaches: A systematic review. In 2019 3rd international conference on trends in electronics and informatics (ICOEI) (pp. 230-234). IEEE.\n",
    "\n",
    "Mdepak. (2019). Fake News Detection - Resources. Retrieved May 26, 2023, from https://github.com/mdepak/fake-news-detection-resources\n",
    "\n",
    "Mhatre, S., & Masurkar, A. (2021, June). A hybrid method for fake news detection using cosine similarity scores. In 2021 International Conference on Communication information and Computing Technology (ICCICT) (pp. 1-6). IEEE.\n",
    "\n",
    "Mishra, S., Shukla, P., & Agarwal, R. (2022). Analyzing machine learning enabled fake news detection techniques for diversified datasets. Wireless Communications and Mobile Computing, 2022, 1-18.\n",
    "\n",
    "O'Shea, K., & Nash, R. (2015). An introduction to convolutional neural networks. arXiv preprint arXiv:1511.08458.\n",
    "\n",
    "Pattekari, S. A., & Parveen, A. (2012). Prediction system for heart disease using Naïve Bayes. International Journal of Advanced Computer and Mathematical Sciences, 3(3), 290-294.\n",
    "\n",
    "Pérez-Rosas, V., Kleinberg, B., Lefevre, A., & Mihalcea, R. (2017). Automatic detection of fake news. arXiv preprint arXiv:1708.07104.\n",
    "\n",
    "Samadi, M., Mousavian, M., & Momtazi, S. (2021). Deep contextualized text representation and learning for fake news detection. Information processing & management, 58(6), 102723.\n",
    "\n",
    "Sansonetti, G., Gasparetti, F., D’aniello, G., & Micarelli, A. (2020). Unreliable users detection in social media: Deep learning techniques for automatic detection. IEEE Access, 8, 213154-213167.\n",
    "\n",
    "Sherstinsky, A. (2020). Fundamentals of recurrent neural network (RNN) and long short-term memory (LSTM) network. Physica D: Nonlinear Phenomena, 404, 132306.\n",
    "\n",
    "Shu, K., Wang, S., & Liu, H. (2019, January). Beyond news contents: The role of social context for fake news detection. In Proceedings of the twelfth ACM international conference on web search and data mining (pp. 312-320).\n",
    "\n",
    "Sharma, U., Saran, S., & Patil, S. M. (2020). Fake news detection using machine learning algorithms. International Journal of Creative Research Thoughts (IJCRT), 8(6), 509-518.\n",
    "\n",
    "Singh, V., Dasgupta, R., Sonagra, D., Raman, K., & Ghosh, I. (2017, July). Automated fake news detection using linguistic analysis and machine learning. In International conference on social computing, behavioral-cultural modeling, & prediction and behavior representation in modeling and simulation (SBP-BRiMS) (pp. 1-3).\n",
    "\n",
    "Staudemeyer, R. C., & Morris, E. R. (2019). Understanding LSTM--a tutorial into long short-term memory recurrent neural networks. arXiv preprint arXiv:1909.09586.\n",
    "\n",
    "Suresh A. (2020). What is a confusion matrix? Retrieved December 4, 2022, from https://medium.com/analytics-vidhya/what-is-a-confusion-matrix-d1c0f8feda5\n",
    "\n",
    "Tacchini, E., Ballarin, G., Della Vedova, M. L., Moret, S., & De Alfaro, L. (2017). Some like it hoax: Automated fake news detection in social networks. arXiv preprint arXiv:1704.07506.\n",
    "\n",
    "University of Victoria. (n.d.). ISOT Fake News Dataset. Retrieved April 27, 2023, from https://onlineacademiccommunity.uvic.ca/isot/wp-content/uploads/sites/7295/2023/02/ISOT_Fake_News_Dataset_ReadMe.pdf\n",
    "https://onlineacademiccommunity.uvic.ca/isot/2022/11/27/fake-news-detection-datasets/\n",
    "\n",
    "Vapnik, V. (1999). The nature of statistical learning theory. Springer science & business media.\n",
    "\n",
    "Wang, W. Y. (2017). \" liar, liar pants on fire\": A new benchmark dataset for fake news detection. arXiv preprint arXiv:1705.00648.\n",
    "\n",
    "Wang, Y., Ma, F., Jin, Z., Yuan, Y., Xun, G., Jha, K., ... & Gao, J. (2018, July). Eann: Event adversarial neural networks for multi-modal fake news detection. In Proceedings of the 24th acm sigkdd international conference on knowledge discovery & data mining (pp. 849-857).\n",
    "\n",
    "Xu, J., Zhang, Y., & Miao, D. (2020). Three-way confusion matrix for classification: A measure driven view. Information sciences, 507, 772-794.\n",
    "\n",
    "Ying, X. (2019, February). An overview of overfitting and its solutions. In Journal of physics: Conference series (Vol. 1168, p. 022022). IOP Publishing.\n",
    "\n",
    "Zhang, X., & Ghorbani, A. A. (2020). An overview of online fake news: Characterization, detection, and discussion. Information Processing & Management, 57(2), 102025.\n",
    "\n",
    "Zhou, X., & Zafarani, R. (2020). A survey of fake news: Fundamental theories, detection methods, and opportunities. ACM Computing Surveys (CSUR), 53(5), 1-40."
   ]
  }
 ],
 "metadata": {
  "kernelspec": {
   "display_name": "Python 3 (ipykernel)",
   "language": "python",
   "name": "python3"
  },
  "language_info": {
   "codemirror_mode": {
    "name": "ipython",
    "version": 3
   },
   "file_extension": ".py",
   "mimetype": "text/x-python",
   "name": "python",
   "nbconvert_exporter": "python",
   "pygments_lexer": "ipython3",
   "version": "3.9.12"
  }
 },
 "nbformat": 4,
 "nbformat_minor": 2
}
